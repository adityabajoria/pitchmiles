{
 "cells": [
  {
   "cell_type": "code",
   "execution_count": 12,
   "id": "7aee524c",
   "metadata": {},
   "outputs": [],
   "source": [
    "import pandas as pd\n",
    "mls_data = pd.read_csv('/Users/aditya/datascience-projects/soccer-analysis/mls_data.csv')"
   ]
  },
  {
   "cell_type": "code",
   "execution_count": 2,
   "id": "167a9c52",
   "metadata": {},
   "outputs": [
    {
     "data": {
      "application/vnd.microsoft.datawrangler.viewer.v0+json": {
       "columns": [
        {
         "name": "index",
         "rawType": "int64",
         "type": "integer"
        },
        {
         "name": "date",
         "rawType": "object",
         "type": "string"
        },
        {
         "name": "home_team",
         "rawType": "object",
         "type": "string"
        },
        {
         "name": "away_team",
         "rawType": "object",
         "type": "string"
        },
        {
         "name": "home_score",
         "rawType": "int64",
         "type": "integer"
        },
        {
         "name": "away_score",
         "rawType": "int64",
         "type": "integer"
        },
        {
         "name": "season",
         "rawType": "int64",
         "type": "integer"
        },
        {
         "name": "league",
         "rawType": "object",
         "type": "string"
        }
       ],
       "ref": "4eeec4c6-7d38-44d9-b680-9d6d5229b288",
       "rows": [
        [
         "0",
         "Saturday, March 8",
         "Seattle Sounders FC",
         "Sporting Kansas City",
         "1",
         "0",
         "2014",
         "MLS"
        ],
        [
         "1",
         "Saturday, March 8",
         "DC United",
         "Columbus Crew SC",
         "0",
         "3",
         "2014",
         "MLS"
        ],
        [
         "2",
         "Saturday, March 8",
         "Vancouver Whitecaps",
         "New York Red Bulls",
         "4",
         "1",
         "2014",
         "MLS"
        ],
        [
         "3",
         "Saturday, March 8",
         "FC Dallas",
         "Montreal Impact",
         "3",
         "2",
         "2014",
         "MLS"
        ],
        [
         "4",
         "Saturday, March 8",
         "Houston Dynamo",
         "New England Revolution",
         "4",
         "0",
         "2014",
         "MLS"
        ],
        [
         "5",
         "Saturday, March 8",
         "LA Galaxy",
         "Real Salt Lake",
         "0",
         "1",
         "2014",
         "MLS"
        ],
        [
         "6",
         "Saturday, March 8",
         "Portland Timbers",
         "Philadelphia Union",
         "1",
         "1",
         "2014",
         "MLS"
        ],
        [
         "7",
         "Sunday, March 9",
         "Chivas USA",
         "Chicago Fire FC",
         "3",
         "2",
         "2014",
         "MLS"
        ],
        [
         "8",
         "Saturday, March 15",
         "New York Red Bulls",
         "Colorado Rapids",
         "1",
         "1",
         "2014",
         "MLS"
        ],
        [
         "9",
         "Saturday, March 15",
         "Philadelphia Union",
         "New England Revolution",
         "1",
         "0",
         "2014",
         "MLS"
        ],
        [
         "10",
         "Saturday, March 15",
         "Seattle Sounders FC",
         "Toronto FC",
         "1",
         "2",
         "2014",
         "MLS"
        ],
        [
         "11",
         "Saturday, March 15",
         "Houston Dynamo",
         "Montreal Impact",
         "1",
         "0",
         "2014",
         "MLS"
        ],
        [
         "12",
         "Saturday, March 15",
         "Sporting Kansas City",
         "FC Dallas",
         "1",
         "1",
         "2014",
         "MLS"
        ],
        [
         "13",
         "Saturday, March 15",
         "San Jose Earthquakes",
         "Real Salt Lake",
         "3",
         "3",
         "2014",
         "MLS"
        ],
        [
         "14",
         "Sunday, March 16",
         "Portland Timbers",
         "Chicago Fire FC",
         "1",
         "1",
         "2014",
         "MLS"
        ],
        [
         "15",
         "Sunday, March 16",
         "Chivas USA",
         "Vancouver Whitecaps",
         "1",
         "1",
         "2014",
         "MLS"
        ],
        [
         "16",
         "Saturday, March 22",
         "New England Revolution",
         "Vancouver Whitecaps",
         "0",
         "0",
         "2014",
         "MLS"
        ],
        [
         "17",
         "Saturday, March 22",
         "Real Salt Lake",
         "LA Galaxy",
         "1",
         "1",
         "2014",
         "MLS"
        ],
        [
         "18",
         "Saturday, March 22",
         "Toronto FC",
         "DC United",
         "1",
         "0",
         "2014",
         "MLS"
        ],
        [
         "19",
         "Saturday, March 22",
         "Colorado Rapids",
         "Portland Timbers",
         "2",
         "0",
         "2014",
         "MLS"
        ],
        [
         "20",
         "Saturday, March 22",
         "Columbus Crew SC",
         "Philadelphia Union",
         "2",
         "1",
         "2014",
         "MLS"
        ],
        [
         "21",
         "Saturday, March 22",
         "FC Dallas",
         "Chivas USA",
         "3",
         "1",
         "2014",
         "MLS"
        ],
        [
         "22",
         "Saturday, March 22",
         "Sporting Kansas City",
         "San Jose Earthquakes",
         "1",
         "0",
         "2014",
         "MLS"
        ],
        [
         "23",
         "Sunday, March 23",
         "Chicago Fire FC",
         "New York Red Bulls",
         "1",
         "1",
         "2014",
         "MLS"
        ],
        [
         "24",
         "Sunday, March 23",
         "Montreal Impact",
         "Seattle Sounders FC",
         "0",
         "2",
         "2014",
         "MLS"
        ],
        [
         "25",
         "Saturday, March 29",
         "DC United",
         "Chicago Fire FC",
         "2",
         "2",
         "2014",
         "MLS"
        ],
        [
         "26",
         "Saturday, March 29",
         "Philadelphia Union",
         "Montreal Impact",
         "1",
         "1",
         "2014",
         "MLS"
        ],
        [
         "27",
         "Saturday, March 29",
         "Colorado Rapids",
         "Sporting Kansas City",
         "2",
         "3",
         "2014",
         "MLS"
        ],
        [
         "28",
         "Saturday, March 29",
         "Vancouver Whitecaps",
         "Houston Dynamo",
         "2",
         "1",
         "2014",
         "MLS"
        ],
        [
         "29",
         "Saturday, March 29",
         "FC Dallas",
         "Portland Timbers",
         "2",
         "1",
         "2014",
         "MLS"
        ],
        [
         "30",
         "Saturday, March 29",
         "Real Salt Lake",
         "Toronto FC",
         "3",
         "0",
         "2014",
         "MLS"
        ],
        [
         "31",
         "Saturday, March 29",
         "Seattle Sounders FC",
         "Columbus Crew SC",
         "1",
         "2",
         "2014",
         "MLS"
        ],
        [
         "32",
         "Saturday, March 29",
         "San Jose Earthquakes",
         "New England Revolution",
         "1",
         "2",
         "2014",
         "MLS"
        ],
        [
         "33",
         "Sunday, March 30",
         "New York Red Bulls",
         "Chivas USA",
         "1",
         "1",
         "2014",
         "MLS"
        ],
        [
         "34",
         "Saturday, April 5",
         "Portland Timbers",
         "Seattle Sounders FC",
         "4",
         "4",
         "2014",
         "MLS"
        ],
        [
         "35",
         "Saturday, April 5",
         "Montreal Impact",
         "New York Red Bulls",
         "2",
         "2",
         "2014",
         "MLS"
        ],
        [
         "36",
         "Saturday, April 5",
         "Chicago Fire FC",
         "Philadelphia Union",
         "2",
         "2",
         "2014",
         "MLS"
        ],
        [
         "37",
         "Saturday, April 5",
         "Columbus Crew SC",
         "Toronto FC",
         "0",
         "2",
         "2014",
         "MLS"
        ],
        [
         "38",
         "Saturday, April 5",
         "Vancouver Whitecaps",
         "Colorado Rapids",
         "1",
         "2",
         "2014",
         "MLS"
        ],
        [
         "39",
         "Saturday, April 5",
         "DC United",
         "New England Revolution",
         "2",
         "0",
         "2014",
         "MLS"
        ],
        [
         "40",
         "Saturday, April 5",
         "Houston Dynamo",
         "FC Dallas",
         "1",
         "4",
         "2014",
         "MLS"
        ],
        [
         "41",
         "Saturday, April 5",
         "Sporting Kansas City",
         "Real Salt Lake",
         "0",
         "0",
         "2014",
         "MLS"
        ],
        [
         "42",
         "Sunday, April 6",
         "Chivas USA",
         "LA Galaxy",
         "0",
         "3",
         "2014",
         "MLS"
        ],
        [
         "43",
         "Saturday, April 12",
         "Montreal Impact",
         "Chicago Fire FC",
         "1",
         "1",
         "2014",
         "MLS"
        ],
        [
         "44",
         "Saturday, April 12",
         "Philadelphia Union",
         "Real Salt Lake",
         "2",
         "2",
         "2014",
         "MLS"
        ],
        [
         "45",
         "Saturday, April 12",
         "Toronto FC",
         "Colorado Rapids",
         "0",
         "1",
         "2014",
         "MLS"
        ],
        [
         "46",
         "Saturday, April 12",
         "New England Revolution",
         "Houston Dynamo",
         "2",
         "0",
         "2014",
         "MLS"
        ],
        [
         "47",
         "Saturday, April 12",
         "DC United",
         "New York Red Bulls",
         "1",
         "0",
         "2014",
         "MLS"
        ],
        [
         "48",
         "Saturday, April 12",
         "FC Dallas",
         "Seattle Sounders FC",
         "2",
         "3",
         "2014",
         "MLS"
        ],
        [
         "49",
         "Saturday, April 12",
         "LA Galaxy",
         "Vancouver Whitecaps",
         "1",
         "0",
         "2014",
         "MLS"
        ]
       ],
       "shape": {
        "columns": 7,
        "rows": 3349
       }
      },
      "text/html": [
       "<div>\n",
       "<style scoped>\n",
       "    .dataframe tbody tr th:only-of-type {\n",
       "        vertical-align: middle;\n",
       "    }\n",
       "\n",
       "    .dataframe tbody tr th {\n",
       "        vertical-align: top;\n",
       "    }\n",
       "\n",
       "    .dataframe thead th {\n",
       "        text-align: right;\n",
       "    }\n",
       "</style>\n",
       "<table border=\"1\" class=\"dataframe\">\n",
       "  <thead>\n",
       "    <tr style=\"text-align: right;\">\n",
       "      <th></th>\n",
       "      <th>date</th>\n",
       "      <th>home_team</th>\n",
       "      <th>away_team</th>\n",
       "      <th>home_score</th>\n",
       "      <th>away_score</th>\n",
       "      <th>season</th>\n",
       "      <th>league</th>\n",
       "    </tr>\n",
       "  </thead>\n",
       "  <tbody>\n",
       "    <tr>\n",
       "      <th>0</th>\n",
       "      <td>Saturday, March 8</td>\n",
       "      <td>Seattle Sounders FC</td>\n",
       "      <td>Sporting Kansas City</td>\n",
       "      <td>1</td>\n",
       "      <td>0</td>\n",
       "      <td>2014</td>\n",
       "      <td>MLS</td>\n",
       "    </tr>\n",
       "    <tr>\n",
       "      <th>1</th>\n",
       "      <td>Saturday, March 8</td>\n",
       "      <td>DC United</td>\n",
       "      <td>Columbus Crew SC</td>\n",
       "      <td>0</td>\n",
       "      <td>3</td>\n",
       "      <td>2014</td>\n",
       "      <td>MLS</td>\n",
       "    </tr>\n",
       "    <tr>\n",
       "      <th>2</th>\n",
       "      <td>Saturday, March 8</td>\n",
       "      <td>Vancouver Whitecaps</td>\n",
       "      <td>New York Red Bulls</td>\n",
       "      <td>4</td>\n",
       "      <td>1</td>\n",
       "      <td>2014</td>\n",
       "      <td>MLS</td>\n",
       "    </tr>\n",
       "    <tr>\n",
       "      <th>3</th>\n",
       "      <td>Saturday, March 8</td>\n",
       "      <td>FC Dallas</td>\n",
       "      <td>Montreal Impact</td>\n",
       "      <td>3</td>\n",
       "      <td>2</td>\n",
       "      <td>2014</td>\n",
       "      <td>MLS</td>\n",
       "    </tr>\n",
       "    <tr>\n",
       "      <th>4</th>\n",
       "      <td>Saturday, March 8</td>\n",
       "      <td>Houston Dynamo</td>\n",
       "      <td>New England Revolution</td>\n",
       "      <td>4</td>\n",
       "      <td>0</td>\n",
       "      <td>2014</td>\n",
       "      <td>MLS</td>\n",
       "    </tr>\n",
       "    <tr>\n",
       "      <th>...</th>\n",
       "      <td>...</td>\n",
       "      <td>...</td>\n",
       "      <td>...</td>\n",
       "      <td>...</td>\n",
       "      <td>...</td>\n",
       "      <td>...</td>\n",
       "      <td>...</td>\n",
       "    </tr>\n",
       "    <tr>\n",
       "      <th>3344</th>\n",
       "      <td>Saturday, July 16</td>\n",
       "      <td>Chicago Fire FC</td>\n",
       "      <td>Seattle Sounders FC</td>\n",
       "      <td>1</td>\n",
       "      <td>0</td>\n",
       "      <td>2022</td>\n",
       "      <td>MLS</td>\n",
       "    </tr>\n",
       "    <tr>\n",
       "      <th>3345</th>\n",
       "      <td>Saturday, July 16</td>\n",
       "      <td>Inter Miami CF</td>\n",
       "      <td>Charlotte FC</td>\n",
       "      <td>3</td>\n",
       "      <td>2</td>\n",
       "      <td>2022</td>\n",
       "      <td>MLS</td>\n",
       "    </tr>\n",
       "    <tr>\n",
       "      <th>3346</th>\n",
       "      <td>Saturday, July 16</td>\n",
       "      <td>Minnesota United FC</td>\n",
       "      <td>D.C. United</td>\n",
       "      <td>2</td>\n",
       "      <td>0</td>\n",
       "      <td>2022</td>\n",
       "      <td>MLS</td>\n",
       "    </tr>\n",
       "    <tr>\n",
       "      <th>3347</th>\n",
       "      <td>Saturday, July 16</td>\n",
       "      <td>Colorado Rapids</td>\n",
       "      <td>LA Galaxy</td>\n",
       "      <td>2</td>\n",
       "      <td>0</td>\n",
       "      <td>2022</td>\n",
       "      <td>MLS</td>\n",
       "    </tr>\n",
       "    <tr>\n",
       "      <th>3348</th>\n",
       "      <td>Saturday, July 16</td>\n",
       "      <td>FC Dallas</td>\n",
       "      <td>Austin FC</td>\n",
       "      <td>1</td>\n",
       "      <td>1</td>\n",
       "      <td>2022</td>\n",
       "      <td>MLS</td>\n",
       "    </tr>\n",
       "  </tbody>\n",
       "</table>\n",
       "<p>3349 rows × 7 columns</p>\n",
       "</div>"
      ],
      "text/plain": [
       "                   date            home_team               away_team  \\\n",
       "0     Saturday, March 8  Seattle Sounders FC    Sporting Kansas City   \n",
       "1     Saturday, March 8            DC United        Columbus Crew SC   \n",
       "2     Saturday, March 8  Vancouver Whitecaps      New York Red Bulls   \n",
       "3     Saturday, March 8            FC Dallas         Montreal Impact   \n",
       "4     Saturday, March 8       Houston Dynamo  New England Revolution   \n",
       "...                 ...                  ...                     ...   \n",
       "3344  Saturday, July 16      Chicago Fire FC     Seattle Sounders FC   \n",
       "3345  Saturday, July 16       Inter Miami CF            Charlotte FC   \n",
       "3346  Saturday, July 16  Minnesota United FC             D.C. United   \n",
       "3347  Saturday, July 16      Colorado Rapids               LA Galaxy   \n",
       "3348  Saturday, July 16            FC Dallas               Austin FC   \n",
       "\n",
       "      home_score  away_score  season league  \n",
       "0              1           0    2014    MLS  \n",
       "1              0           3    2014    MLS  \n",
       "2              4           1    2014    MLS  \n",
       "3              3           2    2014    MLS  \n",
       "4              4           0    2014    MLS  \n",
       "...          ...         ...     ...    ...  \n",
       "3344           1           0    2022    MLS  \n",
       "3345           3           2    2022    MLS  \n",
       "3346           2           0    2022    MLS  \n",
       "3347           2           0    2022    MLS  \n",
       "3348           1           1    2022    MLS  \n",
       "\n",
       "[3349 rows x 7 columns]"
      ]
     },
     "execution_count": 2,
     "metadata": {},
     "output_type": "execute_result"
    }
   ],
   "source": [
    "mls_data"
   ]
  },
  {
   "cell_type": "code",
   "execution_count": 13,
   "id": "ba61fbad",
   "metadata": {},
   "outputs": [
    {
     "name": "stdout",
     "output_type": "stream",
     "text": [
      "['Atlanta United FC', 'Austin FC', 'CF Montréal', 'Charlotte FC', 'Chicago Fire FC', 'Chivas USA', 'Colorado Rapids', 'Columbus Crew', 'Columbus Crew SC', 'D.C. United', 'DC United', 'FC Cincinnati', 'FC Dallas', 'Houston Dynamo', 'Houston Dynamo FC', 'Inter Miami CF', 'LA Galaxy', 'LAFC', 'Minnesota United FC', 'Montreal Impact', 'Nashville SC', 'New England Revolution', 'New York City FC', 'New York Red Bulls', 'Orlando City SC', 'Philadelphia Union', 'Portland Timbers', 'Real Salt Lake', 'San Jose Earthquakes', 'Seattle Sounders FC', 'Sporting Kansas City', 'Toronto FC', 'Vancouver Whitecaps']\n"
     ]
    }
   ],
   "source": [
    "print(sorted(mls_data['home_team'].unique()))"
   ]
  },
  {
   "cell_type": "code",
   "execution_count": 14,
   "id": "6e92d475",
   "metadata": {},
   "outputs": [],
   "source": [
    "mls_teams = [\n",
    "    'LA Galaxy', 'Houston Dynamo', 'DC United',\n",
    "    'Philadelphia Union', 'New York Red Bulls', 'LAFC',\n",
    "    'Seattle Sounders FC', 'Sporting Kansas City', 'Chicago Fire FC', 'Portland Timbers'\n",
    "]\n",
    "\n",
    "refined_mls_data = mls_data[\n",
    "    (mls_data['home_team'].isin(mls_teams)) &\n",
    "    (mls_data['away_team'].isin(mls_teams))\n",
    "]"
   ]
  },
  {
   "cell_type": "code",
   "execution_count": 15,
   "id": "543a7b73",
   "metadata": {},
   "outputs": [
    {
     "data": {
      "application/vnd.microsoft.datawrangler.viewer.v0+json": {
       "columns": [
        {
         "name": "index",
         "rawType": "int64",
         "type": "integer"
        },
        {
         "name": "date",
         "rawType": "object",
         "type": "string"
        },
        {
         "name": "home_team",
         "rawType": "object",
         "type": "string"
        },
        {
         "name": "away_team",
         "rawType": "object",
         "type": "string"
        },
        {
         "name": "home_score",
         "rawType": "int64",
         "type": "integer"
        },
        {
         "name": "away_score",
         "rawType": "int64",
         "type": "integer"
        },
        {
         "name": "season",
         "rawType": "int64",
         "type": "integer"
        },
        {
         "name": "league",
         "rawType": "object",
         "type": "string"
        }
       ],
       "ref": "ef377298-cff5-4e30-8f71-6d7c3c715cf3",
       "rows": [
        [
         "0",
         "Saturday, March 8",
         "Seattle Sounders FC",
         "Sporting Kansas City",
         "1",
         "0",
         "2014",
         "MLS"
        ],
        [
         "6",
         "Saturday, March 8",
         "Portland Timbers",
         "Philadelphia Union",
         "1",
         "1",
         "2014",
         "MLS"
        ],
        [
         "14",
         "Sunday, March 16",
         "Portland Timbers",
         "Chicago Fire FC",
         "1",
         "1",
         "2014",
         "MLS"
        ],
        [
         "23",
         "Sunday, March 23",
         "Chicago Fire FC",
         "New York Red Bulls",
         "1",
         "1",
         "2014",
         "MLS"
        ],
        [
         "25",
         "Saturday, March 29",
         "DC United",
         "Chicago Fire FC",
         "2",
         "2",
         "2014",
         "MLS"
        ],
        [
         "34",
         "Saturday, April 5",
         "Portland Timbers",
         "Seattle Sounders FC",
         "4",
         "4",
         "2014",
         "MLS"
        ],
        [
         "36",
         "Saturday, April 5",
         "Chicago Fire FC",
         "Philadelphia Union",
         "2",
         "2",
         "2014",
         "MLS"
        ],
        [
         "47",
         "Saturday, April 12",
         "DC United",
         "New York Red Bulls",
         "1",
         "0",
         "2014",
         "MLS"
        ],
        [
         "52",
         "Wednesday, April 16",
         "New York Red Bulls",
         "Philadelphia Union",
         "2",
         "1",
         "2014",
         "MLS"
        ],
        [
         "54",
         "Saturday, April 19",
         "Philadelphia Union",
         "Houston Dynamo",
         "0",
         "0",
         "2014",
         "MLS"
        ],
        [
         "62",
         "Wednesday, April 23",
         "New York Red Bulls",
         "Houston Dynamo",
         "4",
         "0",
         "2014",
         "MLS"
        ],
        [
         "70",
         "Sunday, April 27",
         "Houston Dynamo",
         "Portland Timbers",
         "1",
         "1",
         "2014",
         "MLS"
        ],
        [
         "75",
         "Saturday, May 3",
         "Seattle Sounders FC",
         "Philadelphia Union",
         "2",
         "1",
         "2014",
         "MLS"
        ],
        [
         "77",
         "Saturday, May 3",
         "Portland Timbers",
         "DC United",
         "3",
         "2",
         "2014",
         "MLS"
        ],
        [
         "84",
         "Saturday, May 10",
         "Philadelphia Union",
         "DC United",
         "0",
         "1",
         "2014",
         "MLS"
        ],
        [
         "85",
         "Saturday, May 10",
         "New York Red Bulls",
         "Chicago Fire FC",
         "4",
         "5",
         "2014",
         "MLS"
        ],
        [
         "88",
         "Sunday, May 11",
         "Portland Timbers",
         "LA Galaxy",
         "1",
         "1",
         "2014",
         "MLS"
        ],
        [
         "92",
         "Wednesday, May 14",
         "Sporting Kansas City",
         "Philadelphia Union",
         "1",
         "2",
         "2014",
         "MLS"
        ],
        [
         "97",
         "Saturday, May 17",
         "Houston Dynamo",
         "LA Galaxy",
         "1",
         "0",
         "2014",
         "MLS"
        ],
        [
         "101",
         "Sunday, May 18",
         "Chicago Fire FC",
         "Sporting Kansas City",
         "2",
         "1",
         "2014",
         "MLS"
        ],
        [
         "102",
         "Wednesday, May 21",
         "DC United",
         "Houston Dynamo",
         "2",
         "0",
         "2014",
         "MLS"
        ],
        [
         "105",
         "Saturday, May 24",
         "New York Red Bulls",
         "Portland Timbers",
         "1",
         "2",
         "2014",
         "MLS"
        ],
        [
         "111",
         "Sunday, May 25",
         "LA Galaxy",
         "Philadelphia Union",
         "4",
         "1",
         "2014",
         "MLS"
        ],
        [
         "113",
         "Tuesday, May 27",
         "Sporting Kansas City",
         "New York Red Bulls",
         "1",
         "1",
         "2014",
         "MLS"
        ],
        [
         "117",
         "Saturday, May 31",
         "DC United",
         "Sporting Kansas City",
         "1",
         "0",
         "2014",
         "MLS"
        ],
        [
         "121",
         "Sunday, June 1",
         "Chicago Fire FC",
         "LA Galaxy",
         "1",
         "1",
         "2014",
         "MLS"
        ],
        [
         "126",
         "Friday, June 6",
         "Houston Dynamo",
         "Sporting Kansas City",
         "0",
         "2",
         "2014",
         "MLS"
        ],
        [
         "130",
         "Saturday, June 7",
         "Chicago Fire FC",
         "Seattle Sounders FC",
         "2",
         "3",
         "2014",
         "MLS"
        ],
        [
         "139",
         "Friday, June 27",
         "Portland Timbers",
         "Sporting Kansas City",
         "0",
         "1",
         "2014",
         "MLS"
        ],
        [
         "140",
         "Saturday, June 28",
         "DC United",
         "Seattle Sounders FC",
         "0",
         "1",
         "2014",
         "MLS"
        ],
        [
         "149",
         "Friday, July 4",
         "Houston Dynamo",
         "New York Red Bulls",
         "2",
         "2",
         "2014",
         "MLS"
        ],
        [
         "153",
         "Friday, July 4",
         "LA Galaxy",
         "Portland Timbers",
         "2",
         "2",
         "2014",
         "MLS"
        ],
        [
         "157",
         "Sunday, July 6",
         "Sporting Kansas City",
         "Chicago Fire FC",
         "1",
         "1",
         "2014",
         "MLS"
        ],
        [
         "166",
         "Sunday, July 13",
         "Seattle Sounders FC",
         "Portland Timbers",
         "2",
         "0",
         "2014",
         "MLS"
        ],
        [
         "167",
         "Wednesday, July 16",
         "Philadelphia Union",
         "New York Red Bulls",
         "3",
         "1",
         "2014",
         "MLS"
        ],
        [
         "172",
         "Saturday, July 19",
         "Sporting Kansas City",
         "LA Galaxy",
         "2",
         "1",
         "2014",
         "MLS"
        ],
        [
         "175",
         "Saturday, July 19",
         "Chicago Fire FC",
         "Philadelphia Union",
         "1",
         "1",
         "2014",
         "MLS"
        ],
        [
         "187",
         "Monday, July 28",
         "Seattle Sounders FC",
         "LA Galaxy",
         "0",
         "3",
         "2014",
         "MLS"
        ],
        [
         "192",
         "Friday, August 1",
         "Sporting Kansas City",
         "Philadelphia Union",
         "1",
         "1",
         "2014",
         "MLS"
        ],
        [
         "193",
         "Saturday, August 2",
         "LA Galaxy",
         "Portland Timbers",
         "3",
         "1",
         "2014",
         "MLS"
        ],
        [
         "199",
         "Sunday, August 3",
         "Houston Dynamo",
         "DC United",
         "1",
         "0",
         "2014",
         "MLS"
        ],
        [
         "207",
         "Sunday, August 10",
         "Chicago Fire FC",
         "New York Red Bulls",
         "1",
         "0",
         "2014",
         "MLS"
        ],
        [
         "209",
         "Sunday, August 10",
         "Seattle Sounders FC",
         "Houston Dynamo",
         "2",
         "0",
         "2014",
         "MLS"
        ],
        [
         "210",
         "Friday, August 15",
         "Houston Dynamo",
         "Philadelphia Union",
         "2",
         "0",
         "2014",
         "MLS"
        ],
        [
         "226",
         "Saturday, August 23",
         "Sporting Kansas City",
         "DC United",
         "0",
         "3",
         "2014",
         "MLS"
        ],
        [
         "228",
         "Sunday, August 24",
         "Portland Timbers",
         "Seattle Sounders FC",
         "2",
         "4",
         "2014",
         "MLS"
        ],
        [
         "230",
         "Wednesday, August 27",
         "LA Galaxy",
         "DC United",
         "4",
         "1",
         "2014",
         "MLS"
        ],
        [
         "231",
         "Friday, August 29",
         "Sporting Kansas City",
         "Houston Dynamo",
         "1",
         "3",
         "2014",
         "MLS"
        ],
        [
         "238",
         "Sunday, August 31",
         "DC United",
         "New York Red Bulls",
         "2",
         "0",
         "2014",
         "MLS"
        ],
        [
         "245",
         "Saturday, September 6",
         "New York Red Bulls",
         "Sporting Kansas City",
         "2",
         "1",
         "2014",
         "MLS"
        ]
       ],
       "shape": {
        "columns": 7,
        "rows": 524
       }
      },
      "text/html": [
       "<div>\n",
       "<style scoped>\n",
       "    .dataframe tbody tr th:only-of-type {\n",
       "        vertical-align: middle;\n",
       "    }\n",
       "\n",
       "    .dataframe tbody tr th {\n",
       "        vertical-align: top;\n",
       "    }\n",
       "\n",
       "    .dataframe thead th {\n",
       "        text-align: right;\n",
       "    }\n",
       "</style>\n",
       "<table border=\"1\" class=\"dataframe\">\n",
       "  <thead>\n",
       "    <tr style=\"text-align: right;\">\n",
       "      <th></th>\n",
       "      <th>date</th>\n",
       "      <th>home_team</th>\n",
       "      <th>away_team</th>\n",
       "      <th>home_score</th>\n",
       "      <th>away_score</th>\n",
       "      <th>season</th>\n",
       "      <th>league</th>\n",
       "    </tr>\n",
       "  </thead>\n",
       "  <tbody>\n",
       "    <tr>\n",
       "      <th>0</th>\n",
       "      <td>Saturday, March 8</td>\n",
       "      <td>Seattle Sounders FC</td>\n",
       "      <td>Sporting Kansas City</td>\n",
       "      <td>1</td>\n",
       "      <td>0</td>\n",
       "      <td>2014</td>\n",
       "      <td>MLS</td>\n",
       "    </tr>\n",
       "    <tr>\n",
       "      <th>6</th>\n",
       "      <td>Saturday, March 8</td>\n",
       "      <td>Portland Timbers</td>\n",
       "      <td>Philadelphia Union</td>\n",
       "      <td>1</td>\n",
       "      <td>1</td>\n",
       "      <td>2014</td>\n",
       "      <td>MLS</td>\n",
       "    </tr>\n",
       "    <tr>\n",
       "      <th>14</th>\n",
       "      <td>Sunday, March 16</td>\n",
       "      <td>Portland Timbers</td>\n",
       "      <td>Chicago Fire FC</td>\n",
       "      <td>1</td>\n",
       "      <td>1</td>\n",
       "      <td>2014</td>\n",
       "      <td>MLS</td>\n",
       "    </tr>\n",
       "    <tr>\n",
       "      <th>23</th>\n",
       "      <td>Sunday, March 23</td>\n",
       "      <td>Chicago Fire FC</td>\n",
       "      <td>New York Red Bulls</td>\n",
       "      <td>1</td>\n",
       "      <td>1</td>\n",
       "      <td>2014</td>\n",
       "      <td>MLS</td>\n",
       "    </tr>\n",
       "    <tr>\n",
       "      <th>25</th>\n",
       "      <td>Saturday, March 29</td>\n",
       "      <td>DC United</td>\n",
       "      <td>Chicago Fire FC</td>\n",
       "      <td>2</td>\n",
       "      <td>2</td>\n",
       "      <td>2014</td>\n",
       "      <td>MLS</td>\n",
       "    </tr>\n",
       "    <tr>\n",
       "      <th>...</th>\n",
       "      <td>...</td>\n",
       "      <td>...</td>\n",
       "      <td>...</td>\n",
       "      <td>...</td>\n",
       "      <td>...</td>\n",
       "      <td>...</td>\n",
       "      <td>...</td>\n",
       "    </tr>\n",
       "    <tr>\n",
       "      <th>3296</th>\n",
       "      <td>Wednesday, June 29</td>\n",
       "      <td>Chicago Fire FC</td>\n",
       "      <td>Philadelphia Union</td>\n",
       "      <td>1</td>\n",
       "      <td>0</td>\n",
       "      <td>2022</td>\n",
       "      <td>MLS</td>\n",
       "    </tr>\n",
       "    <tr>\n",
       "      <th>3309</th>\n",
       "      <td>Sunday, July 3</td>\n",
       "      <td>Sporting Kansas City</td>\n",
       "      <td>New York Red Bulls</td>\n",
       "      <td>0</td>\n",
       "      <td>1</td>\n",
       "      <td>2022</td>\n",
       "      <td>MLS</td>\n",
       "    </tr>\n",
       "    <tr>\n",
       "      <th>3318</th>\n",
       "      <td>Friday, July 8</td>\n",
       "      <td>LAFC</td>\n",
       "      <td>LA Galaxy</td>\n",
       "      <td>3</td>\n",
       "      <td>2</td>\n",
       "      <td>2022</td>\n",
       "      <td>MLS</td>\n",
       "    </tr>\n",
       "    <tr>\n",
       "      <th>3321</th>\n",
       "      <td>Saturday, July 9</td>\n",
       "      <td>Seattle Sounders FC</td>\n",
       "      <td>Portland Timbers</td>\n",
       "      <td>0</td>\n",
       "      <td>3</td>\n",
       "      <td>2022</td>\n",
       "      <td>MLS</td>\n",
       "    </tr>\n",
       "    <tr>\n",
       "      <th>3344</th>\n",
       "      <td>Saturday, July 16</td>\n",
       "      <td>Chicago Fire FC</td>\n",
       "      <td>Seattle Sounders FC</td>\n",
       "      <td>1</td>\n",
       "      <td>0</td>\n",
       "      <td>2022</td>\n",
       "      <td>MLS</td>\n",
       "    </tr>\n",
       "  </tbody>\n",
       "</table>\n",
       "<p>524 rows × 7 columns</p>\n",
       "</div>"
      ],
      "text/plain": [
       "                    date             home_team             away_team  \\\n",
       "0      Saturday, March 8   Seattle Sounders FC  Sporting Kansas City   \n",
       "6      Saturday, March 8      Portland Timbers    Philadelphia Union   \n",
       "14      Sunday, March 16      Portland Timbers       Chicago Fire FC   \n",
       "23      Sunday, March 23       Chicago Fire FC    New York Red Bulls   \n",
       "25    Saturday, March 29             DC United       Chicago Fire FC   \n",
       "...                  ...                   ...                   ...   \n",
       "3296  Wednesday, June 29       Chicago Fire FC    Philadelphia Union   \n",
       "3309      Sunday, July 3  Sporting Kansas City    New York Red Bulls   \n",
       "3318      Friday, July 8                  LAFC             LA Galaxy   \n",
       "3321    Saturday, July 9   Seattle Sounders FC      Portland Timbers   \n",
       "3344   Saturday, July 16       Chicago Fire FC   Seattle Sounders FC   \n",
       "\n",
       "      home_score  away_score  season league  \n",
       "0              1           0    2014    MLS  \n",
       "6              1           1    2014    MLS  \n",
       "14             1           1    2014    MLS  \n",
       "23             1           1    2014    MLS  \n",
       "25             2           2    2014    MLS  \n",
       "...          ...         ...     ...    ...  \n",
       "3296           1           0    2022    MLS  \n",
       "3309           0           1    2022    MLS  \n",
       "3318           3           2    2022    MLS  \n",
       "3321           0           3    2022    MLS  \n",
       "3344           1           0    2022    MLS  \n",
       "\n",
       "[524 rows x 7 columns]"
      ]
     },
     "execution_count": 15,
     "metadata": {},
     "output_type": "execute_result"
    }
   ],
   "source": [
    "refined_mls_data"
   ]
  },
  {
   "cell_type": "code",
   "execution_count": 16,
   "id": "4372dc45",
   "metadata": {},
   "outputs": [
    {
     "data": {
      "text/plain": [
       "array(['Seattle Sounders FC', 'Portland Timbers', 'Chicago Fire FC',\n",
       "       'DC United', 'New York Red Bulls', 'Philadelphia Union',\n",
       "       'Houston Dynamo', 'Sporting Kansas City', 'LA Galaxy', 'LAFC'],\n",
       "      dtype=object)"
      ]
     },
     "execution_count": 16,
     "metadata": {},
     "output_type": "execute_result"
    }
   ],
   "source": [
    "refined_mls_data['home_team'].unique()"
   ]
  },
  {
   "cell_type": "code",
   "execution_count": 17,
   "id": "1c6f3294",
   "metadata": {},
   "outputs": [
    {
     "data": {
      "text/plain": [
       "array(['Sporting Kansas City', 'Philadelphia Union', 'Chicago Fire FC',\n",
       "       'New York Red Bulls', 'Seattle Sounders FC', 'Houston Dynamo',\n",
       "       'Portland Timbers', 'DC United', 'LA Galaxy', 'LAFC'], dtype=object)"
      ]
     },
     "execution_count": 17,
     "metadata": {},
     "output_type": "execute_result"
    }
   ],
   "source": [
    "refined_mls_data['away_team'].unique()"
   ]
  },
  {
   "cell_type": "code",
   "execution_count": 18,
   "id": "f8f849d9",
   "metadata": {},
   "outputs": [],
   "source": [
    "refined_mls_data = refined_mls_data[['league'] + [col for col in refined_mls_data.columns if col != 'league']]"
   ]
  },
  {
   "cell_type": "code",
   "execution_count": 20,
   "id": "19b0d758",
   "metadata": {},
   "outputs": [],
   "source": [
    "from datetime import datetime\n",
    "import pandas as pd\n",
    "\n",
    "def convert_mls_date(row):\n",
    "    try:\n",
    "        parsed = datetime.strptime(row['date'], '%A, %B %d')\n",
    "        return datetime(int(row['season']), parsed.month, parsed.day).date()\n",
    "    except:\n",
    "        return pd.NaT\n",
    "\n",
    "refined_mls_data['date'] = refined_mls_data.apply(convert_mls_date, axis=1)"
   ]
  },
  {
   "cell_type": "code",
   "execution_count": 21,
   "id": "c3eef7bc",
   "metadata": {},
   "outputs": [
    {
     "data": {
      "application/vnd.microsoft.datawrangler.viewer.v0+json": {
       "columns": [
        {
         "name": "index",
         "rawType": "int64",
         "type": "integer"
        },
        {
         "name": "league",
         "rawType": "object",
         "type": "string"
        },
        {
         "name": "date",
         "rawType": "object",
         "type": "unknown"
        },
        {
         "name": "home_team",
         "rawType": "object",
         "type": "string"
        },
        {
         "name": "away_team",
         "rawType": "object",
         "type": "string"
        },
        {
         "name": "home_score",
         "rawType": "int64",
         "type": "integer"
        },
        {
         "name": "away_score",
         "rawType": "int64",
         "type": "integer"
        },
        {
         "name": "season",
         "rawType": "int64",
         "type": "integer"
        }
       ],
       "ref": "9ea31cf6-24c4-48d1-af98-a33ca02ce5ff",
       "rows": [
        [
         "0",
         "MLS",
         "2014-03-08",
         "Seattle Sounders FC",
         "Sporting Kansas City",
         "1",
         "0",
         "2014"
        ],
        [
         "6",
         "MLS",
         "2014-03-08",
         "Portland Timbers",
         "Philadelphia Union",
         "1",
         "1",
         "2014"
        ],
        [
         "14",
         "MLS",
         "2014-03-16",
         "Portland Timbers",
         "Chicago Fire FC",
         "1",
         "1",
         "2014"
        ],
        [
         "23",
         "MLS",
         "2014-03-23",
         "Chicago Fire FC",
         "New York Red Bulls",
         "1",
         "1",
         "2014"
        ],
        [
         "25",
         "MLS",
         "2014-03-29",
         "DC United",
         "Chicago Fire FC",
         "2",
         "2",
         "2014"
        ],
        [
         "34",
         "MLS",
         "2014-04-05",
         "Portland Timbers",
         "Seattle Sounders FC",
         "4",
         "4",
         "2014"
        ],
        [
         "36",
         "MLS",
         "2014-04-05",
         "Chicago Fire FC",
         "Philadelphia Union",
         "2",
         "2",
         "2014"
        ],
        [
         "47",
         "MLS",
         "2014-04-12",
         "DC United",
         "New York Red Bulls",
         "1",
         "0",
         "2014"
        ],
        [
         "52",
         "MLS",
         "2014-04-16",
         "New York Red Bulls",
         "Philadelphia Union",
         "2",
         "1",
         "2014"
        ],
        [
         "54",
         "MLS",
         "2014-04-19",
         "Philadelphia Union",
         "Houston Dynamo",
         "0",
         "0",
         "2014"
        ],
        [
         "62",
         "MLS",
         "2014-04-23",
         "New York Red Bulls",
         "Houston Dynamo",
         "4",
         "0",
         "2014"
        ],
        [
         "70",
         "MLS",
         "2014-04-27",
         "Houston Dynamo",
         "Portland Timbers",
         "1",
         "1",
         "2014"
        ],
        [
         "75",
         "MLS",
         "2014-05-03",
         "Seattle Sounders FC",
         "Philadelphia Union",
         "2",
         "1",
         "2014"
        ],
        [
         "77",
         "MLS",
         "2014-05-03",
         "Portland Timbers",
         "DC United",
         "3",
         "2",
         "2014"
        ],
        [
         "84",
         "MLS",
         "2014-05-10",
         "Philadelphia Union",
         "DC United",
         "0",
         "1",
         "2014"
        ],
        [
         "85",
         "MLS",
         "2014-05-10",
         "New York Red Bulls",
         "Chicago Fire FC",
         "4",
         "5",
         "2014"
        ],
        [
         "88",
         "MLS",
         "2014-05-11",
         "Portland Timbers",
         "LA Galaxy",
         "1",
         "1",
         "2014"
        ],
        [
         "92",
         "MLS",
         "2014-05-14",
         "Sporting Kansas City",
         "Philadelphia Union",
         "1",
         "2",
         "2014"
        ],
        [
         "97",
         "MLS",
         "2014-05-17",
         "Houston Dynamo",
         "LA Galaxy",
         "1",
         "0",
         "2014"
        ],
        [
         "101",
         "MLS",
         "2014-05-18",
         "Chicago Fire FC",
         "Sporting Kansas City",
         "2",
         "1",
         "2014"
        ],
        [
         "102",
         "MLS",
         "2014-05-21",
         "DC United",
         "Houston Dynamo",
         "2",
         "0",
         "2014"
        ],
        [
         "105",
         "MLS",
         "2014-05-24",
         "New York Red Bulls",
         "Portland Timbers",
         "1",
         "2",
         "2014"
        ],
        [
         "111",
         "MLS",
         "2014-05-25",
         "LA Galaxy",
         "Philadelphia Union",
         "4",
         "1",
         "2014"
        ],
        [
         "113",
         "MLS",
         "2014-05-27",
         "Sporting Kansas City",
         "New York Red Bulls",
         "1",
         "1",
         "2014"
        ],
        [
         "117",
         "MLS",
         "2014-05-31",
         "DC United",
         "Sporting Kansas City",
         "1",
         "0",
         "2014"
        ],
        [
         "121",
         "MLS",
         "2014-06-01",
         "Chicago Fire FC",
         "LA Galaxy",
         "1",
         "1",
         "2014"
        ],
        [
         "126",
         "MLS",
         "2014-06-06",
         "Houston Dynamo",
         "Sporting Kansas City",
         "0",
         "2",
         "2014"
        ],
        [
         "130",
         "MLS",
         "2014-06-07",
         "Chicago Fire FC",
         "Seattle Sounders FC",
         "2",
         "3",
         "2014"
        ],
        [
         "139",
         "MLS",
         "2014-06-27",
         "Portland Timbers",
         "Sporting Kansas City",
         "0",
         "1",
         "2014"
        ],
        [
         "140",
         "MLS",
         "2014-06-28",
         "DC United",
         "Seattle Sounders FC",
         "0",
         "1",
         "2014"
        ],
        [
         "149",
         "MLS",
         "2014-07-04",
         "Houston Dynamo",
         "New York Red Bulls",
         "2",
         "2",
         "2014"
        ],
        [
         "153",
         "MLS",
         "2014-07-04",
         "LA Galaxy",
         "Portland Timbers",
         "2",
         "2",
         "2014"
        ],
        [
         "157",
         "MLS",
         "2014-07-06",
         "Sporting Kansas City",
         "Chicago Fire FC",
         "1",
         "1",
         "2014"
        ],
        [
         "166",
         "MLS",
         "2014-07-13",
         "Seattle Sounders FC",
         "Portland Timbers",
         "2",
         "0",
         "2014"
        ],
        [
         "167",
         "MLS",
         "2014-07-16",
         "Philadelphia Union",
         "New York Red Bulls",
         "3",
         "1",
         "2014"
        ],
        [
         "172",
         "MLS",
         "2014-07-19",
         "Sporting Kansas City",
         "LA Galaxy",
         "2",
         "1",
         "2014"
        ],
        [
         "175",
         "MLS",
         "2014-07-19",
         "Chicago Fire FC",
         "Philadelphia Union",
         "1",
         "1",
         "2014"
        ],
        [
         "187",
         "MLS",
         "2014-07-28",
         "Seattle Sounders FC",
         "LA Galaxy",
         "0",
         "3",
         "2014"
        ],
        [
         "192",
         "MLS",
         "2014-08-01",
         "Sporting Kansas City",
         "Philadelphia Union",
         "1",
         "1",
         "2014"
        ],
        [
         "193",
         "MLS",
         "2014-08-02",
         "LA Galaxy",
         "Portland Timbers",
         "3",
         "1",
         "2014"
        ],
        [
         "199",
         "MLS",
         "2014-08-03",
         "Houston Dynamo",
         "DC United",
         "1",
         "0",
         "2014"
        ],
        [
         "207",
         "MLS",
         "2014-08-10",
         "Chicago Fire FC",
         "New York Red Bulls",
         "1",
         "0",
         "2014"
        ],
        [
         "209",
         "MLS",
         "2014-08-10",
         "Seattle Sounders FC",
         "Houston Dynamo",
         "2",
         "0",
         "2014"
        ],
        [
         "210",
         "MLS",
         "2014-08-15",
         "Houston Dynamo",
         "Philadelphia Union",
         "2",
         "0",
         "2014"
        ],
        [
         "226",
         "MLS",
         "2014-08-23",
         "Sporting Kansas City",
         "DC United",
         "0",
         "3",
         "2014"
        ],
        [
         "228",
         "MLS",
         "2014-08-24",
         "Portland Timbers",
         "Seattle Sounders FC",
         "2",
         "4",
         "2014"
        ],
        [
         "230",
         "MLS",
         "2014-08-27",
         "LA Galaxy",
         "DC United",
         "4",
         "1",
         "2014"
        ],
        [
         "231",
         "MLS",
         "2014-08-29",
         "Sporting Kansas City",
         "Houston Dynamo",
         "1",
         "3",
         "2014"
        ],
        [
         "238",
         "MLS",
         "2014-08-31",
         "DC United",
         "New York Red Bulls",
         "2",
         "0",
         "2014"
        ],
        [
         "245",
         "MLS",
         "2014-09-06",
         "New York Red Bulls",
         "Sporting Kansas City",
         "2",
         "1",
         "2014"
        ]
       ],
       "shape": {
        "columns": 7,
        "rows": 524
       }
      },
      "text/html": [
       "<div>\n",
       "<style scoped>\n",
       "    .dataframe tbody tr th:only-of-type {\n",
       "        vertical-align: middle;\n",
       "    }\n",
       "\n",
       "    .dataframe tbody tr th {\n",
       "        vertical-align: top;\n",
       "    }\n",
       "\n",
       "    .dataframe thead th {\n",
       "        text-align: right;\n",
       "    }\n",
       "</style>\n",
       "<table border=\"1\" class=\"dataframe\">\n",
       "  <thead>\n",
       "    <tr style=\"text-align: right;\">\n",
       "      <th></th>\n",
       "      <th>league</th>\n",
       "      <th>date</th>\n",
       "      <th>home_team</th>\n",
       "      <th>away_team</th>\n",
       "      <th>home_score</th>\n",
       "      <th>away_score</th>\n",
       "      <th>season</th>\n",
       "    </tr>\n",
       "  </thead>\n",
       "  <tbody>\n",
       "    <tr>\n",
       "      <th>0</th>\n",
       "      <td>MLS</td>\n",
       "      <td>2014-03-08</td>\n",
       "      <td>Seattle Sounders FC</td>\n",
       "      <td>Sporting Kansas City</td>\n",
       "      <td>1</td>\n",
       "      <td>0</td>\n",
       "      <td>2014</td>\n",
       "    </tr>\n",
       "    <tr>\n",
       "      <th>6</th>\n",
       "      <td>MLS</td>\n",
       "      <td>2014-03-08</td>\n",
       "      <td>Portland Timbers</td>\n",
       "      <td>Philadelphia Union</td>\n",
       "      <td>1</td>\n",
       "      <td>1</td>\n",
       "      <td>2014</td>\n",
       "    </tr>\n",
       "    <tr>\n",
       "      <th>14</th>\n",
       "      <td>MLS</td>\n",
       "      <td>2014-03-16</td>\n",
       "      <td>Portland Timbers</td>\n",
       "      <td>Chicago Fire FC</td>\n",
       "      <td>1</td>\n",
       "      <td>1</td>\n",
       "      <td>2014</td>\n",
       "    </tr>\n",
       "    <tr>\n",
       "      <th>23</th>\n",
       "      <td>MLS</td>\n",
       "      <td>2014-03-23</td>\n",
       "      <td>Chicago Fire FC</td>\n",
       "      <td>New York Red Bulls</td>\n",
       "      <td>1</td>\n",
       "      <td>1</td>\n",
       "      <td>2014</td>\n",
       "    </tr>\n",
       "    <tr>\n",
       "      <th>25</th>\n",
       "      <td>MLS</td>\n",
       "      <td>2014-03-29</td>\n",
       "      <td>DC United</td>\n",
       "      <td>Chicago Fire FC</td>\n",
       "      <td>2</td>\n",
       "      <td>2</td>\n",
       "      <td>2014</td>\n",
       "    </tr>\n",
       "    <tr>\n",
       "      <th>...</th>\n",
       "      <td>...</td>\n",
       "      <td>...</td>\n",
       "      <td>...</td>\n",
       "      <td>...</td>\n",
       "      <td>...</td>\n",
       "      <td>...</td>\n",
       "      <td>...</td>\n",
       "    </tr>\n",
       "    <tr>\n",
       "      <th>3296</th>\n",
       "      <td>MLS</td>\n",
       "      <td>2022-06-29</td>\n",
       "      <td>Chicago Fire FC</td>\n",
       "      <td>Philadelphia Union</td>\n",
       "      <td>1</td>\n",
       "      <td>0</td>\n",
       "      <td>2022</td>\n",
       "    </tr>\n",
       "    <tr>\n",
       "      <th>3309</th>\n",
       "      <td>MLS</td>\n",
       "      <td>2022-07-03</td>\n",
       "      <td>Sporting Kansas City</td>\n",
       "      <td>New York Red Bulls</td>\n",
       "      <td>0</td>\n",
       "      <td>1</td>\n",
       "      <td>2022</td>\n",
       "    </tr>\n",
       "    <tr>\n",
       "      <th>3318</th>\n",
       "      <td>MLS</td>\n",
       "      <td>2022-07-08</td>\n",
       "      <td>LAFC</td>\n",
       "      <td>LA Galaxy</td>\n",
       "      <td>3</td>\n",
       "      <td>2</td>\n",
       "      <td>2022</td>\n",
       "    </tr>\n",
       "    <tr>\n",
       "      <th>3321</th>\n",
       "      <td>MLS</td>\n",
       "      <td>2022-07-09</td>\n",
       "      <td>Seattle Sounders FC</td>\n",
       "      <td>Portland Timbers</td>\n",
       "      <td>0</td>\n",
       "      <td>3</td>\n",
       "      <td>2022</td>\n",
       "    </tr>\n",
       "    <tr>\n",
       "      <th>3344</th>\n",
       "      <td>MLS</td>\n",
       "      <td>2022-07-16</td>\n",
       "      <td>Chicago Fire FC</td>\n",
       "      <td>Seattle Sounders FC</td>\n",
       "      <td>1</td>\n",
       "      <td>0</td>\n",
       "      <td>2022</td>\n",
       "    </tr>\n",
       "  </tbody>\n",
       "</table>\n",
       "<p>524 rows × 7 columns</p>\n",
       "</div>"
      ],
      "text/plain": [
       "     league        date             home_team             away_team  \\\n",
       "0       MLS  2014-03-08   Seattle Sounders FC  Sporting Kansas City   \n",
       "6       MLS  2014-03-08      Portland Timbers    Philadelphia Union   \n",
       "14      MLS  2014-03-16      Portland Timbers       Chicago Fire FC   \n",
       "23      MLS  2014-03-23       Chicago Fire FC    New York Red Bulls   \n",
       "25      MLS  2014-03-29             DC United       Chicago Fire FC   \n",
       "...     ...         ...                   ...                   ...   \n",
       "3296    MLS  2022-06-29       Chicago Fire FC    Philadelphia Union   \n",
       "3309    MLS  2022-07-03  Sporting Kansas City    New York Red Bulls   \n",
       "3318    MLS  2022-07-08                  LAFC             LA Galaxy   \n",
       "3321    MLS  2022-07-09   Seattle Sounders FC      Portland Timbers   \n",
       "3344    MLS  2022-07-16       Chicago Fire FC   Seattle Sounders FC   \n",
       "\n",
       "      home_score  away_score  season  \n",
       "0              1           0    2014  \n",
       "6              1           1    2014  \n",
       "14             1           1    2014  \n",
       "23             1           1    2014  \n",
       "25             2           2    2014  \n",
       "...          ...         ...     ...  \n",
       "3296           1           0    2022  \n",
       "3309           0           1    2022  \n",
       "3318           3           2    2022  \n",
       "3321           0           3    2022  \n",
       "3344           1           0    2022  \n",
       "\n",
       "[524 rows x 7 columns]"
      ]
     },
     "execution_count": 21,
     "metadata": {},
     "output_type": "execute_result"
    }
   ],
   "source": [
    "refined_mls_data"
   ]
  },
  {
   "cell_type": "code",
   "execution_count": 22,
   "id": "176b50e5",
   "metadata": {},
   "outputs": [
    {
     "data": {
      "application/vnd.microsoft.datawrangler.viewer.v0+json": {
       "columns": [
        {
         "name": "index",
         "rawType": "object",
         "type": "string"
        },
        {
         "name": "0",
         "rawType": "int64",
         "type": "integer"
        }
       ],
       "ref": "26d056ba-2c6c-43bc-bd7d-534c71f19930",
       "rows": [
        [
         "league",
         "0"
        ],
        [
         "date",
         "0"
        ],
        [
         "home_team",
         "0"
        ],
        [
         "away_team",
         "0"
        ],
        [
         "home_score",
         "0"
        ],
        [
         "away_score",
         "0"
        ],
        [
         "season",
         "0"
        ]
       ],
       "shape": {
        "columns": 1,
        "rows": 7
       }
      },
      "text/plain": [
       "league        0\n",
       "date          0\n",
       "home_team     0\n",
       "away_team     0\n",
       "home_score    0\n",
       "away_score    0\n",
       "season        0\n",
       "dtype: int64"
      ]
     },
     "execution_count": 22,
     "metadata": {},
     "output_type": "execute_result"
    }
   ],
   "source": [
    "# chcck for missing values\n",
    "refined_mls_data.isnull().sum()\n"
   ]
  },
  {
   "cell_type": "code",
   "execution_count": 23,
   "id": "e7c26d29",
   "metadata": {},
   "outputs": [],
   "source": [
    "refined_mls_data.to_csv('/Users/aditya/datascience-projects/soccer-analysis/data/mls_data.csv')"
   ]
  }
 ],
 "metadata": {
  "kernelspec": {
   "display_name": "3.11.6",
   "language": "python",
   "name": "python3"
  },
  "language_info": {
   "codemirror_mode": {
    "name": "ipython",
    "version": 3
   },
   "file_extension": ".py",
   "mimetype": "text/x-python",
   "name": "python",
   "nbconvert_exporter": "python",
   "pygments_lexer": "ipython3",
   "version": "3.11.6"
  }
 },
 "nbformat": 4,
 "nbformat_minor": 5
}
