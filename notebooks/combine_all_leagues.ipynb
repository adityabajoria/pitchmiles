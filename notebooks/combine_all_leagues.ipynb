{
 "cells": [
  {
   "cell_type": "code",
   "execution_count": 28,
   "id": "dc843808",
   "metadata": {},
   "outputs": [],
   "source": [
    "import pandas as pd\n",
    "\n",
    "prem_data = pd.read_csv('/Users/aditya/datascience-projects/soccer-analysis/data/prem_data.csv')\n",
    "serie_a_data = pd.read_csv('/Users/aditya/datascience-projects/soccer-analysis/data/brazil_serie_a_data.csv')\n",
    "mls_data = pd.read_csv('/Users/aditya/datascience-projects/soccer-analysis/data/mls_data.csv')"
   ]
  },
  {
   "cell_type": "code",
   "execution_count": 29,
   "id": "ecc53952",
   "metadata": {},
   "outputs": [],
   "source": [
    "combined_data = pd.concat([prem_data, serie_a_data, mls_data], ignore_index=True)\n",
    "combined_data = combined_data.sample(frac=1, random_state=42).reset_index(drop=True)"
   ]
  },
  {
   "cell_type": "code",
   "execution_count": 30,
   "id": "42b0242a",
   "metadata": {},
   "outputs": [
    {
     "data": {
      "application/vnd.microsoft.datawrangler.viewer.v0+json": {
       "columns": [
        {
         "name": "index",
         "rawType": "object",
         "type": "string"
        },
        {
         "name": "0",
         "rawType": "int64",
         "type": "integer"
        }
       ],
       "ref": "cfe0ce4c-fa63-416f-bdd2-c341c6962680",
       "rows": [
        [
         "Unnamed: 0",
         "0"
        ],
        [
         "league",
         "0"
        ],
        [
         "date",
         "0"
        ],
        [
         "home_team",
         "0"
        ],
        [
         "away_team",
         "0"
        ],
        [
         "home_score",
         "0"
        ],
        [
         "away_score",
         "0"
        ],
        [
         "season",
         "0"
        ]
       ],
       "shape": {
        "columns": 1,
        "rows": 8
       }
      },
      "text/plain": [
       "Unnamed: 0    0\n",
       "league        0\n",
       "date          0\n",
       "home_team     0\n",
       "away_team     0\n",
       "home_score    0\n",
       "away_score    0\n",
       "season        0\n",
       "dtype: int64"
      ]
     },
     "execution_count": 30,
     "metadata": {},
     "output_type": "execute_result"
    }
   ],
   "source": [
    "# check for missing values\n",
    "combined_data.isnull().sum()"
   ]
  },
  {
   "cell_type": "code",
   "execution_count": 31,
   "id": "8b654448",
   "metadata": {},
   "outputs": [],
   "source": [
    "# drop Unamed column\n",
    "combined_data.drop(columns=['Unnamed: 0'], inplace=True)"
   ]
  },
  {
   "cell_type": "code",
   "execution_count": 32,
   "id": "05a4c6a0",
   "metadata": {},
   "outputs": [
    {
     "data": {
      "application/vnd.microsoft.datawrangler.viewer.v0+json": {
       "columns": [
        {
         "name": "index",
         "rawType": "int64",
         "type": "integer"
        },
        {
         "name": "league",
         "rawType": "object",
         "type": "string"
        },
        {
         "name": "date",
         "rawType": "object",
         "type": "string"
        },
        {
         "name": "home_team",
         "rawType": "object",
         "type": "string"
        },
        {
         "name": "away_team",
         "rawType": "object",
         "type": "string"
        },
        {
         "name": "home_score",
         "rawType": "float64",
         "type": "float"
        },
        {
         "name": "away_score",
         "rawType": "float64",
         "type": "float"
        },
        {
         "name": "season",
         "rawType": "int64",
         "type": "integer"
        }
       ],
       "ref": "2c4d42dc-108a-4765-a2b5-3d492baff6e3",
       "rows": [
        [
         "0",
         "Premier League",
         "2017-05-14",
         "Tottenham",
         "Man United",
         "2.0",
         "1.0",
         "2016"
        ],
        [
         "1",
         "Premier League",
         "2020-06-23",
         "Tottenham",
         "West Ham",
         "2.0",
         "0.0",
         "2019"
        ],
        [
         "2",
         "Brazilian Serie A",
         "2021-07-07",
         "Internacional",
         "Sao Paulo",
         "0.0",
         "2.0",
         "2021"
        ],
        [
         "3",
         "MLS",
         "2019-05-29",
         "Sporting Kansas City",
         "LA Galaxy",
         "0.0",
         "2.0",
         "2019"
        ],
        [
         "4",
         "Premier League",
         "2019-11-30",
         "Newcastle",
         "Man City",
         "2.0",
         "2.0",
         "2019"
        ],
        [
         "5",
         "MLS",
         "2014-04-16",
         "New York Red Bulls",
         "Philadelphia Union",
         "2.0",
         "1.0",
         "2014"
        ],
        [
         "6",
         "MLS",
         "2016-09-24",
         "Houston Dynamo",
         "Portland Timbers",
         "3.0",
         "1.0",
         "2016"
        ],
        [
         "7",
         "Brazilian Serie A",
         "2021-02-14",
         "Gremio",
         "Sao Paulo",
         "1.0",
         "2.0",
         "2020"
        ],
        [
         "8",
         "Brazilian Serie A",
         "2021-06-20",
         "Santos",
         "Sao Paulo",
         "2.0",
         "0.0",
         "2021"
        ],
        [
         "9",
         "MLS",
         "2015-06-24",
         "LA Galaxy",
         "Portland Timbers",
         "5.0",
         "0.0",
         "2015"
        ],
        [
         "10",
         "MLS",
         "2022-05-14",
         "Philadelphia Union",
         "New York Red Bulls",
         "1.0",
         "1.0",
         "2022"
        ],
        [
         "11",
         "Brazilian Serie A",
         "2018-07-26",
         "Gremio",
         "Sao Paulo",
         "2.0",
         "1.0",
         "2018"
        ],
        [
         "12",
         "MLS",
         "2016-06-01",
         "DC United",
         "Seattle Sounders FC",
         "0.0",
         "2.0",
         "2016"
        ],
        [
         "13",
         "Brazilian Serie A",
         "2021-12-06",
         "Flamengo",
         "Santos",
         "0.0",
         "1.0",
         "2021"
        ],
        [
         "14",
         "Brazilian Serie A",
         "2017-11-19",
         "Santos",
         "Gremio",
         "1.0",
         "0.0",
         "2017"
        ],
        [
         "15",
         "MLS",
         "2019-05-18",
         "Houston Dynamo",
         "DC United",
         "2.0",
         "1.0",
         "2019"
        ],
        [
         "16",
         "Brazilian Serie A",
         "2018-08-22",
         "Gremio",
         "Cruzeiro",
         "1.0",
         "1.0",
         "2018"
        ],
        [
         "17",
         "Premier League",
         "2019-01-30",
         "Liverpool",
         "Leicester",
         "1.0",
         "1.0",
         "2018"
        ],
        [
         "18",
         "Brazilian Serie A",
         "2016-12-11",
         "Cruzeiro",
         "Corinthians",
         "3.0",
         "2.0",
         "2016"
        ],
        [
         "19",
         "MLS",
         "2014-09-28",
         "LA Galaxy",
         "New York Red Bulls",
         "4.0",
         "0.0",
         "2014"
        ],
        [
         "20",
         "Brazilian Serie A",
         "2014-11-23",
         "Corinthians",
         "Gremio",
         "1.0",
         "0.0",
         "2014"
        ],
        [
         "21",
         "Brazilian Serie A",
         "2015-05-10",
         "Cruzeiro",
         "Corinthians",
         "0.0",
         "1.0",
         "2015"
        ],
        [
         "22",
         "Premier League",
         "2016-09-24",
         "Arsenal",
         "Chelsea",
         "3.0",
         "0.0",
         "2016"
        ],
        [
         "23",
         "Brazilian Serie A",
         "2015-08-23",
         "Flamengo",
         "Sao Paulo",
         "2.0",
         "1.0",
         "2015"
        ],
        [
         "24",
         "Premier League",
         "2021-03-10",
         "Tottenham",
         "Aston Villa",
         "2.0",
         "1.0",
         "2021"
        ],
        [
         "25",
         "MLS",
         "2014-05-10",
         "Philadelphia Union",
         "DC United",
         "0.0",
         "1.0",
         "2014"
        ],
        [
         "26",
         "Premier League",
         "2021-09-19",
         "West Ham",
         "Man United",
         "1.0",
         "2.0",
         "2021"
        ],
        [
         "27",
         "Premier League",
         "2019-05-10",
         "Liverpool",
         "Leicester",
         "2.0",
         "1.0",
         "2019"
        ],
        [
         "28",
         "MLS",
         "2019-03-10",
         "LAFC",
         "Portland Timbers",
         "4.0",
         "1.0",
         "2019"
        ],
        [
         "29",
         "MLS",
         "2017-06-04",
         "Seattle Sounders FC",
         "Houston Dynamo",
         "1.0",
         "0.0",
         "2017"
        ],
        [
         "30",
         "MLS",
         "2017-06-24",
         "LA Galaxy",
         "Sporting Kansas City",
         "1.0",
         "2.0",
         "2017"
        ],
        [
         "31",
         "MLS",
         "2019-10-20",
         "Philadelphia Union",
         "New York Red Bulls",
         "4.0",
         "3.0",
         "2019"
        ],
        [
         "32",
         "Brazilian Serie A",
         "2016-09-14",
         "Palmeiras",
         "Flamengo",
         "1.0",
         "1.0",
         "2016"
        ],
        [
         "33",
         "Brazilian Serie A",
         "2019-08-04",
         "Corinthians",
         "Palmeiras",
         "1.0",
         "1.0",
         "2019"
        ],
        [
         "34",
         "MLS",
         "2015-05-09",
         "DC United",
         "Sporting Kansas City",
         "1.0",
         "1.0",
         "2015"
        ],
        [
         "35",
         "Brazilian Serie A",
         "2017-11-19",
         "Sao Paulo",
         "Botafogo",
         "0.0",
         "0.0",
         "2017"
        ],
        [
         "36",
         "MLS",
         "2020-11-24",
         "Seattle Sounders FC",
         "LAFC",
         "3.0",
         "1.0",
         "2020"
        ],
        [
         "37",
         "MLS",
         "2022-05-22",
         "Portland Timbers",
         "Philadelphia Union",
         "0.0",
         "2.0",
         "2022"
        ],
        [
         "38",
         "Brazilian Serie A",
         "2019-07-13",
         "Sao Paulo",
         "Palmeiras",
         "1.0",
         "1.0",
         "2019"
        ],
        [
         "39",
         "Premier League",
         "2019-01-19",
         "Arsenal",
         "Chelsea",
         "2.0",
         "0.0",
         "2018"
        ],
        [
         "40",
         "Premier League",
         "2021-02-28",
         "Leicester",
         "Arsenal",
         "1.0",
         "3.0",
         "2020"
        ],
        [
         "41",
         "Premier League",
         "2015-10-17",
         "Chelsea",
         "Aston Villa",
         "2.0",
         "0.0",
         "2015"
        ],
        [
         "42",
         "Premier League",
         "2019-11-08",
         "Newcastle",
         "Arsenal",
         "0.0",
         "1.0",
         "2019"
        ],
        [
         "43",
         "Premier League",
         "2021-01-01",
         "Man United",
         "Aston Villa",
         "2.0",
         "1.0",
         "2020"
        ],
        [
         "44",
         "MLS",
         "2014-04-05",
         "Chicago Fire FC",
         "Philadelphia Union",
         "2.0",
         "2.0",
         "2014"
        ],
        [
         "45",
         "Premier League",
         "2018-04-15",
         "Newcastle",
         "Arsenal",
         "2.0",
         "1.0",
         "2017"
        ],
        [
         "46",
         "MLS",
         "2021-05-09",
         "Portland Timbers",
         "Seattle Sounders FC",
         "1.0",
         "2.0",
         "2021"
        ],
        [
         "47",
         "Premier League",
         "2016-11-19",
         "Man United",
         "Arsenal",
         "1.0",
         "1.0",
         "2016"
        ],
        [
         "48",
         "Brazilian Serie A",
         "2020-11-28",
         "Atletico",
         "Internacional",
         "0.0",
         "0.0",
         "2020"
        ],
        [
         "49",
         "Premier League",
         "2020-12-01",
         "Aston Villa",
         "Man City",
         "1.0",
         "6.0",
         "2019"
        ]
       ],
       "shape": {
        "columns": 7,
        "rows": 1852
       }
      },
      "text/html": [
       "<div>\n",
       "<style scoped>\n",
       "    .dataframe tbody tr th:only-of-type {\n",
       "        vertical-align: middle;\n",
       "    }\n",
       "\n",
       "    .dataframe tbody tr th {\n",
       "        vertical-align: top;\n",
       "    }\n",
       "\n",
       "    .dataframe thead th {\n",
       "        text-align: right;\n",
       "    }\n",
       "</style>\n",
       "<table border=\"1\" class=\"dataframe\">\n",
       "  <thead>\n",
       "    <tr style=\"text-align: right;\">\n",
       "      <th></th>\n",
       "      <th>league</th>\n",
       "      <th>date</th>\n",
       "      <th>home_team</th>\n",
       "      <th>away_team</th>\n",
       "      <th>home_score</th>\n",
       "      <th>away_score</th>\n",
       "      <th>season</th>\n",
       "    </tr>\n",
       "  </thead>\n",
       "  <tbody>\n",
       "    <tr>\n",
       "      <th>0</th>\n",
       "      <td>Premier League</td>\n",
       "      <td>2017-05-14</td>\n",
       "      <td>Tottenham</td>\n",
       "      <td>Man United</td>\n",
       "      <td>2.0</td>\n",
       "      <td>1.0</td>\n",
       "      <td>2016</td>\n",
       "    </tr>\n",
       "    <tr>\n",
       "      <th>1</th>\n",
       "      <td>Premier League</td>\n",
       "      <td>2020-06-23</td>\n",
       "      <td>Tottenham</td>\n",
       "      <td>West Ham</td>\n",
       "      <td>2.0</td>\n",
       "      <td>0.0</td>\n",
       "      <td>2019</td>\n",
       "    </tr>\n",
       "    <tr>\n",
       "      <th>2</th>\n",
       "      <td>Brazilian Serie A</td>\n",
       "      <td>2021-07-07</td>\n",
       "      <td>Internacional</td>\n",
       "      <td>Sao Paulo</td>\n",
       "      <td>0.0</td>\n",
       "      <td>2.0</td>\n",
       "      <td>2021</td>\n",
       "    </tr>\n",
       "    <tr>\n",
       "      <th>3</th>\n",
       "      <td>MLS</td>\n",
       "      <td>2019-05-29</td>\n",
       "      <td>Sporting Kansas City</td>\n",
       "      <td>LA Galaxy</td>\n",
       "      <td>0.0</td>\n",
       "      <td>2.0</td>\n",
       "      <td>2019</td>\n",
       "    </tr>\n",
       "    <tr>\n",
       "      <th>4</th>\n",
       "      <td>Premier League</td>\n",
       "      <td>2019-11-30</td>\n",
       "      <td>Newcastle</td>\n",
       "      <td>Man City</td>\n",
       "      <td>2.0</td>\n",
       "      <td>2.0</td>\n",
       "      <td>2019</td>\n",
       "    </tr>\n",
       "    <tr>\n",
       "      <th>...</th>\n",
       "      <td>...</td>\n",
       "      <td>...</td>\n",
       "      <td>...</td>\n",
       "      <td>...</td>\n",
       "      <td>...</td>\n",
       "      <td>...</td>\n",
       "      <td>...</td>\n",
       "    </tr>\n",
       "    <tr>\n",
       "      <th>1847</th>\n",
       "      <td>Brazilian Serie A</td>\n",
       "      <td>2019-10-13</td>\n",
       "      <td>Internacional</td>\n",
       "      <td>Santos</td>\n",
       "      <td>0.0</td>\n",
       "      <td>0.0</td>\n",
       "      <td>2019</td>\n",
       "    </tr>\n",
       "    <tr>\n",
       "      <th>1848</th>\n",
       "      <td>Brazilian Serie A</td>\n",
       "      <td>2022-05-29</td>\n",
       "      <td>Santos</td>\n",
       "      <td>Palmeiras</td>\n",
       "      <td>0.0</td>\n",
       "      <td>1.0</td>\n",
       "      <td>2022</td>\n",
       "    </tr>\n",
       "    <tr>\n",
       "      <th>1849</th>\n",
       "      <td>Brazilian Serie A</td>\n",
       "      <td>2015-11-01</td>\n",
       "      <td>Santos</td>\n",
       "      <td>Palmeiras</td>\n",
       "      <td>2.0</td>\n",
       "      <td>1.0</td>\n",
       "      <td>2015</td>\n",
       "    </tr>\n",
       "    <tr>\n",
       "      <th>1850</th>\n",
       "      <td>MLS</td>\n",
       "      <td>2015-10-03</td>\n",
       "      <td>Portland Timbers</td>\n",
       "      <td>Sporting Kansas City</td>\n",
       "      <td>0.0</td>\n",
       "      <td>1.0</td>\n",
       "      <td>2015</td>\n",
       "    </tr>\n",
       "    <tr>\n",
       "      <th>1851</th>\n",
       "      <td>Brazilian Serie A</td>\n",
       "      <td>2019-10-05</td>\n",
       "      <td>Gremio</td>\n",
       "      <td>Corinthians</td>\n",
       "      <td>0.0</td>\n",
       "      <td>0.0</td>\n",
       "      <td>2019</td>\n",
       "    </tr>\n",
       "  </tbody>\n",
       "</table>\n",
       "<p>1852 rows × 7 columns</p>\n",
       "</div>"
      ],
      "text/plain": [
       "                 league        date             home_team  \\\n",
       "0        Premier League  2017-05-14             Tottenham   \n",
       "1        Premier League  2020-06-23             Tottenham   \n",
       "2     Brazilian Serie A  2021-07-07         Internacional   \n",
       "3                   MLS  2019-05-29  Sporting Kansas City   \n",
       "4        Premier League  2019-11-30             Newcastle   \n",
       "...                 ...         ...                   ...   \n",
       "1847  Brazilian Serie A  2019-10-13         Internacional   \n",
       "1848  Brazilian Serie A  2022-05-29                Santos   \n",
       "1849  Brazilian Serie A  2015-11-01                Santos   \n",
       "1850                MLS  2015-10-03      Portland Timbers   \n",
       "1851  Brazilian Serie A  2019-10-05                Gremio   \n",
       "\n",
       "                 away_team  home_score  away_score  season  \n",
       "0               Man United         2.0         1.0    2016  \n",
       "1                 West Ham         2.0         0.0    2019  \n",
       "2                Sao Paulo         0.0         2.0    2021  \n",
       "3                LA Galaxy         0.0         2.0    2019  \n",
       "4                 Man City         2.0         2.0    2019  \n",
       "...                    ...         ...         ...     ...  \n",
       "1847                Santos         0.0         0.0    2019  \n",
       "1848             Palmeiras         0.0         1.0    2022  \n",
       "1849             Palmeiras         2.0         1.0    2015  \n",
       "1850  Sporting Kansas City         0.0         1.0    2015  \n",
       "1851           Corinthians         0.0         0.0    2019  \n",
       "\n",
       "[1852 rows x 7 columns]"
      ]
     },
     "execution_count": 32,
     "metadata": {},
     "output_type": "execute_result"
    }
   ],
   "source": [
    "combined_data"
   ]
  },
  {
   "cell_type": "code",
   "execution_count": 33,
   "id": "fd718623",
   "metadata": {},
   "outputs": [],
   "source": [
    "# rename columns\n",
    "team_name_map = {\n",
    "    'Man City': 'Manchester City',\n",
    "    'Man United': 'Manchester United',\n",
    "    'Newcastle': 'Newcastle United',\n",
    "    'Atletico': 'Atletico Mineiro',\n",
    "    'Seattle Sounders FC': 'Seattle Sounders'\n",
    "}\n",
    "\n",
    "# Apply to both home and away team columns\n",
    "combined_data['home_team'] = combined_data['home_team'].replace(team_name_map)\n",
    "combined_data['away_team'] = combined_data['away_team'].replace(team_name_map)"
   ]
  },
  {
   "cell_type": "code",
   "execution_count": 34,
   "id": "4513821c",
   "metadata": {},
   "outputs": [
    {
     "data": {
      "application/vnd.microsoft.datawrangler.viewer.v0+json": {
       "columns": [
        {
         "name": "index",
         "rawType": "int64",
         "type": "integer"
        },
        {
         "name": "league",
         "rawType": "object",
         "type": "string"
        },
        {
         "name": "date",
         "rawType": "object",
         "type": "string"
        },
        {
         "name": "home_team",
         "rawType": "object",
         "type": "string"
        },
        {
         "name": "away_team",
         "rawType": "object",
         "type": "string"
        },
        {
         "name": "home_score",
         "rawType": "float64",
         "type": "float"
        },
        {
         "name": "away_score",
         "rawType": "float64",
         "type": "float"
        },
        {
         "name": "season",
         "rawType": "int64",
         "type": "integer"
        }
       ],
       "ref": "caf1e7fe-e01b-47ce-ad2a-1f4e8e2f5a65",
       "rows": [
        [
         "0",
         "Premier League",
         "2017-05-14",
         "Tottenham",
         "Manchester United",
         "2.0",
         "1.0",
         "2016"
        ],
        [
         "1",
         "Premier League",
         "2020-06-23",
         "Tottenham",
         "West Ham",
         "2.0",
         "0.0",
         "2019"
        ],
        [
         "2",
         "Brazilian Serie A",
         "2021-07-07",
         "Internacional",
         "Sao Paulo",
         "0.0",
         "2.0",
         "2021"
        ],
        [
         "3",
         "MLS",
         "2019-05-29",
         "Sporting Kansas City",
         "LA Galaxy",
         "0.0",
         "2.0",
         "2019"
        ],
        [
         "4",
         "Premier League",
         "2019-11-30",
         "Newcastle United",
         "Manchester City",
         "2.0",
         "2.0",
         "2019"
        ],
        [
         "5",
         "MLS",
         "2014-04-16",
         "New York Red Bulls",
         "Philadelphia Union",
         "2.0",
         "1.0",
         "2014"
        ],
        [
         "6",
         "MLS",
         "2016-09-24",
         "Houston Dynamo",
         "Portland Timbers",
         "3.0",
         "1.0",
         "2016"
        ],
        [
         "7",
         "Brazilian Serie A",
         "2021-02-14",
         "Gremio",
         "Sao Paulo",
         "1.0",
         "2.0",
         "2020"
        ],
        [
         "8",
         "Brazilian Serie A",
         "2021-06-20",
         "Santos",
         "Sao Paulo",
         "2.0",
         "0.0",
         "2021"
        ],
        [
         "9",
         "MLS",
         "2015-06-24",
         "LA Galaxy",
         "Portland Timbers",
         "5.0",
         "0.0",
         "2015"
        ],
        [
         "10",
         "MLS",
         "2022-05-14",
         "Philadelphia Union",
         "New York Red Bulls",
         "1.0",
         "1.0",
         "2022"
        ],
        [
         "11",
         "Brazilian Serie A",
         "2018-07-26",
         "Gremio",
         "Sao Paulo",
         "2.0",
         "1.0",
         "2018"
        ],
        [
         "12",
         "MLS",
         "2016-06-01",
         "DC United",
         "Seattle Sounders",
         "0.0",
         "2.0",
         "2016"
        ],
        [
         "13",
         "Brazilian Serie A",
         "2021-12-06",
         "Flamengo",
         "Santos",
         "0.0",
         "1.0",
         "2021"
        ],
        [
         "14",
         "Brazilian Serie A",
         "2017-11-19",
         "Santos",
         "Gremio",
         "1.0",
         "0.0",
         "2017"
        ],
        [
         "15",
         "MLS",
         "2019-05-18",
         "Houston Dynamo",
         "DC United",
         "2.0",
         "1.0",
         "2019"
        ],
        [
         "16",
         "Brazilian Serie A",
         "2018-08-22",
         "Gremio",
         "Cruzeiro",
         "1.0",
         "1.0",
         "2018"
        ],
        [
         "17",
         "Premier League",
         "2019-01-30",
         "Liverpool",
         "Leicester",
         "1.0",
         "1.0",
         "2018"
        ],
        [
         "18",
         "Brazilian Serie A",
         "2016-12-11",
         "Cruzeiro",
         "Corinthians",
         "3.0",
         "2.0",
         "2016"
        ],
        [
         "19",
         "MLS",
         "2014-09-28",
         "LA Galaxy",
         "New York Red Bulls",
         "4.0",
         "0.0",
         "2014"
        ],
        [
         "20",
         "Brazilian Serie A",
         "2014-11-23",
         "Corinthians",
         "Gremio",
         "1.0",
         "0.0",
         "2014"
        ],
        [
         "21",
         "Brazilian Serie A",
         "2015-05-10",
         "Cruzeiro",
         "Corinthians",
         "0.0",
         "1.0",
         "2015"
        ],
        [
         "22",
         "Premier League",
         "2016-09-24",
         "Arsenal",
         "Chelsea",
         "3.0",
         "0.0",
         "2016"
        ],
        [
         "23",
         "Brazilian Serie A",
         "2015-08-23",
         "Flamengo",
         "Sao Paulo",
         "2.0",
         "1.0",
         "2015"
        ],
        [
         "24",
         "Premier League",
         "2021-03-10",
         "Tottenham",
         "Aston Villa",
         "2.0",
         "1.0",
         "2021"
        ],
        [
         "25",
         "MLS",
         "2014-05-10",
         "Philadelphia Union",
         "DC United",
         "0.0",
         "1.0",
         "2014"
        ],
        [
         "26",
         "Premier League",
         "2021-09-19",
         "West Ham",
         "Manchester United",
         "1.0",
         "2.0",
         "2021"
        ],
        [
         "27",
         "Premier League",
         "2019-05-10",
         "Liverpool",
         "Leicester",
         "2.0",
         "1.0",
         "2019"
        ],
        [
         "28",
         "MLS",
         "2019-03-10",
         "LAFC",
         "Portland Timbers",
         "4.0",
         "1.0",
         "2019"
        ],
        [
         "29",
         "MLS",
         "2017-06-04",
         "Seattle Sounders",
         "Houston Dynamo",
         "1.0",
         "0.0",
         "2017"
        ],
        [
         "30",
         "MLS",
         "2017-06-24",
         "LA Galaxy",
         "Sporting Kansas City",
         "1.0",
         "2.0",
         "2017"
        ],
        [
         "31",
         "MLS",
         "2019-10-20",
         "Philadelphia Union",
         "New York Red Bulls",
         "4.0",
         "3.0",
         "2019"
        ],
        [
         "32",
         "Brazilian Serie A",
         "2016-09-14",
         "Palmeiras",
         "Flamengo",
         "1.0",
         "1.0",
         "2016"
        ],
        [
         "33",
         "Brazilian Serie A",
         "2019-08-04",
         "Corinthians",
         "Palmeiras",
         "1.0",
         "1.0",
         "2019"
        ],
        [
         "34",
         "MLS",
         "2015-05-09",
         "DC United",
         "Sporting Kansas City",
         "1.0",
         "1.0",
         "2015"
        ],
        [
         "35",
         "Brazilian Serie A",
         "2017-11-19",
         "Sao Paulo",
         "Botafogo",
         "0.0",
         "0.0",
         "2017"
        ],
        [
         "36",
         "MLS",
         "2020-11-24",
         "Seattle Sounders",
         "LAFC",
         "3.0",
         "1.0",
         "2020"
        ],
        [
         "37",
         "MLS",
         "2022-05-22",
         "Portland Timbers",
         "Philadelphia Union",
         "0.0",
         "2.0",
         "2022"
        ],
        [
         "38",
         "Brazilian Serie A",
         "2019-07-13",
         "Sao Paulo",
         "Palmeiras",
         "1.0",
         "1.0",
         "2019"
        ],
        [
         "39",
         "Premier League",
         "2019-01-19",
         "Arsenal",
         "Chelsea",
         "2.0",
         "0.0",
         "2018"
        ],
        [
         "40",
         "Premier League",
         "2021-02-28",
         "Leicester",
         "Arsenal",
         "1.0",
         "3.0",
         "2020"
        ],
        [
         "41",
         "Premier League",
         "2015-10-17",
         "Chelsea",
         "Aston Villa",
         "2.0",
         "0.0",
         "2015"
        ],
        [
         "42",
         "Premier League",
         "2019-11-08",
         "Newcastle United",
         "Arsenal",
         "0.0",
         "1.0",
         "2019"
        ],
        [
         "43",
         "Premier League",
         "2021-01-01",
         "Manchester United",
         "Aston Villa",
         "2.0",
         "1.0",
         "2020"
        ],
        [
         "44",
         "MLS",
         "2014-04-05",
         "Chicago Fire FC",
         "Philadelphia Union",
         "2.0",
         "2.0",
         "2014"
        ],
        [
         "45",
         "Premier League",
         "2018-04-15",
         "Newcastle United",
         "Arsenal",
         "2.0",
         "1.0",
         "2017"
        ],
        [
         "46",
         "MLS",
         "2021-05-09",
         "Portland Timbers",
         "Seattle Sounders",
         "1.0",
         "2.0",
         "2021"
        ],
        [
         "47",
         "Premier League",
         "2016-11-19",
         "Manchester United",
         "Arsenal",
         "1.0",
         "1.0",
         "2016"
        ],
        [
         "48",
         "Brazilian Serie A",
         "2020-11-28",
         "Atletico Mineiro",
         "Internacional",
         "0.0",
         "0.0",
         "2020"
        ],
        [
         "49",
         "Premier League",
         "2020-12-01",
         "Aston Villa",
         "Manchester City",
         "1.0",
         "6.0",
         "2019"
        ]
       ],
       "shape": {
        "columns": 7,
        "rows": 1852
       }
      },
      "text/html": [
       "<div>\n",
       "<style scoped>\n",
       "    .dataframe tbody tr th:only-of-type {\n",
       "        vertical-align: middle;\n",
       "    }\n",
       "\n",
       "    .dataframe tbody tr th {\n",
       "        vertical-align: top;\n",
       "    }\n",
       "\n",
       "    .dataframe thead th {\n",
       "        text-align: right;\n",
       "    }\n",
       "</style>\n",
       "<table border=\"1\" class=\"dataframe\">\n",
       "  <thead>\n",
       "    <tr style=\"text-align: right;\">\n",
       "      <th></th>\n",
       "      <th>league</th>\n",
       "      <th>date</th>\n",
       "      <th>home_team</th>\n",
       "      <th>away_team</th>\n",
       "      <th>home_score</th>\n",
       "      <th>away_score</th>\n",
       "      <th>season</th>\n",
       "    </tr>\n",
       "  </thead>\n",
       "  <tbody>\n",
       "    <tr>\n",
       "      <th>0</th>\n",
       "      <td>Premier League</td>\n",
       "      <td>2017-05-14</td>\n",
       "      <td>Tottenham</td>\n",
       "      <td>Manchester United</td>\n",
       "      <td>2.0</td>\n",
       "      <td>1.0</td>\n",
       "      <td>2016</td>\n",
       "    </tr>\n",
       "    <tr>\n",
       "      <th>1</th>\n",
       "      <td>Premier League</td>\n",
       "      <td>2020-06-23</td>\n",
       "      <td>Tottenham</td>\n",
       "      <td>West Ham</td>\n",
       "      <td>2.0</td>\n",
       "      <td>0.0</td>\n",
       "      <td>2019</td>\n",
       "    </tr>\n",
       "    <tr>\n",
       "      <th>2</th>\n",
       "      <td>Brazilian Serie A</td>\n",
       "      <td>2021-07-07</td>\n",
       "      <td>Internacional</td>\n",
       "      <td>Sao Paulo</td>\n",
       "      <td>0.0</td>\n",
       "      <td>2.0</td>\n",
       "      <td>2021</td>\n",
       "    </tr>\n",
       "    <tr>\n",
       "      <th>3</th>\n",
       "      <td>MLS</td>\n",
       "      <td>2019-05-29</td>\n",
       "      <td>Sporting Kansas City</td>\n",
       "      <td>LA Galaxy</td>\n",
       "      <td>0.0</td>\n",
       "      <td>2.0</td>\n",
       "      <td>2019</td>\n",
       "    </tr>\n",
       "    <tr>\n",
       "      <th>4</th>\n",
       "      <td>Premier League</td>\n",
       "      <td>2019-11-30</td>\n",
       "      <td>Newcastle United</td>\n",
       "      <td>Manchester City</td>\n",
       "      <td>2.0</td>\n",
       "      <td>2.0</td>\n",
       "      <td>2019</td>\n",
       "    </tr>\n",
       "    <tr>\n",
       "      <th>...</th>\n",
       "      <td>...</td>\n",
       "      <td>...</td>\n",
       "      <td>...</td>\n",
       "      <td>...</td>\n",
       "      <td>...</td>\n",
       "      <td>...</td>\n",
       "      <td>...</td>\n",
       "    </tr>\n",
       "    <tr>\n",
       "      <th>1847</th>\n",
       "      <td>Brazilian Serie A</td>\n",
       "      <td>2019-10-13</td>\n",
       "      <td>Internacional</td>\n",
       "      <td>Santos</td>\n",
       "      <td>0.0</td>\n",
       "      <td>0.0</td>\n",
       "      <td>2019</td>\n",
       "    </tr>\n",
       "    <tr>\n",
       "      <th>1848</th>\n",
       "      <td>Brazilian Serie A</td>\n",
       "      <td>2022-05-29</td>\n",
       "      <td>Santos</td>\n",
       "      <td>Palmeiras</td>\n",
       "      <td>0.0</td>\n",
       "      <td>1.0</td>\n",
       "      <td>2022</td>\n",
       "    </tr>\n",
       "    <tr>\n",
       "      <th>1849</th>\n",
       "      <td>Brazilian Serie A</td>\n",
       "      <td>2015-11-01</td>\n",
       "      <td>Santos</td>\n",
       "      <td>Palmeiras</td>\n",
       "      <td>2.0</td>\n",
       "      <td>1.0</td>\n",
       "      <td>2015</td>\n",
       "    </tr>\n",
       "    <tr>\n",
       "      <th>1850</th>\n",
       "      <td>MLS</td>\n",
       "      <td>2015-10-03</td>\n",
       "      <td>Portland Timbers</td>\n",
       "      <td>Sporting Kansas City</td>\n",
       "      <td>0.0</td>\n",
       "      <td>1.0</td>\n",
       "      <td>2015</td>\n",
       "    </tr>\n",
       "    <tr>\n",
       "      <th>1851</th>\n",
       "      <td>Brazilian Serie A</td>\n",
       "      <td>2019-10-05</td>\n",
       "      <td>Gremio</td>\n",
       "      <td>Corinthians</td>\n",
       "      <td>0.0</td>\n",
       "      <td>0.0</td>\n",
       "      <td>2019</td>\n",
       "    </tr>\n",
       "  </tbody>\n",
       "</table>\n",
       "<p>1852 rows × 7 columns</p>\n",
       "</div>"
      ],
      "text/plain": [
       "                 league        date             home_team  \\\n",
       "0        Premier League  2017-05-14             Tottenham   \n",
       "1        Premier League  2020-06-23             Tottenham   \n",
       "2     Brazilian Serie A  2021-07-07         Internacional   \n",
       "3                   MLS  2019-05-29  Sporting Kansas City   \n",
       "4        Premier League  2019-11-30      Newcastle United   \n",
       "...                 ...         ...                   ...   \n",
       "1847  Brazilian Serie A  2019-10-13         Internacional   \n",
       "1848  Brazilian Serie A  2022-05-29                Santos   \n",
       "1849  Brazilian Serie A  2015-11-01                Santos   \n",
       "1850                MLS  2015-10-03      Portland Timbers   \n",
       "1851  Brazilian Serie A  2019-10-05                Gremio   \n",
       "\n",
       "                 away_team  home_score  away_score  season  \n",
       "0        Manchester United         2.0         1.0    2016  \n",
       "1                 West Ham         2.0         0.0    2019  \n",
       "2                Sao Paulo         0.0         2.0    2021  \n",
       "3                LA Galaxy         0.0         2.0    2019  \n",
       "4          Manchester City         2.0         2.0    2019  \n",
       "...                    ...         ...         ...     ...  \n",
       "1847                Santos         0.0         0.0    2019  \n",
       "1848             Palmeiras         0.0         1.0    2022  \n",
       "1849             Palmeiras         2.0         1.0    2015  \n",
       "1850  Sporting Kansas City         0.0         1.0    2015  \n",
       "1851           Corinthians         0.0         0.0    2019  \n",
       "\n",
       "[1852 rows x 7 columns]"
      ]
     },
     "execution_count": 34,
     "metadata": {},
     "output_type": "execute_result"
    }
   ],
   "source": [
    "combined_data"
   ]
  },
  {
   "cell_type": "code",
   "execution_count": 35,
   "id": "79ef17a0",
   "metadata": {},
   "outputs": [
    {
     "name": "stdout",
     "output_type": "stream",
     "text": [
      "file saved to data/leagues_data.csv\n"
     ]
    }
   ],
   "source": [
    "combined_data.to_csv('/Users/aditya/datascience-projects/soccer-analysis/data/leagues_data.csv')\n",
    "print('file saved to data/leagues_data.csv')"
   ]
  }
 ],
 "metadata": {
  "kernelspec": {
   "display_name": "3.11.6",
   "language": "python",
   "name": "python3"
  },
  "language_info": {
   "codemirror_mode": {
    "name": "ipython",
    "version": 3
   },
   "file_extension": ".py",
   "mimetype": "text/x-python",
   "name": "python",
   "nbconvert_exporter": "python",
   "pygments_lexer": "ipython3",
   "version": "3.11.6"
  }
 },
 "nbformat": 4,
 "nbformat_minor": 5
}
