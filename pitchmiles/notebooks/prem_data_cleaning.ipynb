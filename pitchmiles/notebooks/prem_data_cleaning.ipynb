{
 "cells": [
  {
   "cell_type": "code",
   "execution_count": 12,
   "id": "17124738",
   "metadata": {},
   "outputs": [
    {
     "data": {
      "application/vnd.microsoft.datawrangler.viewer.v0+json": {
       "columns": [
        {
         "name": "index",
         "rawType": "int64",
         "type": "integer"
        },
        {
         "name": "date",
         "rawType": "object",
         "type": "unknown"
        },
        {
         "name": "home_team",
         "rawType": "object",
         "type": "unknown"
        },
        {
         "name": "away_team",
         "rawType": "object",
         "type": "unknown"
        },
        {
         "name": "home_score",
         "rawType": "float64",
         "type": "float"
        },
        {
         "name": "away_score",
         "rawType": "float64",
         "type": "float"
        },
        {
         "name": "season",
         "rawType": "object",
         "type": "string"
        },
        {
         "name": "league",
         "rawType": "object",
         "type": "string"
        }
       ],
       "ref": "c3550bbd-969c-4235-8f28-27d1f61a1429",
       "rows": [
        [
         "0",
         "2014-08-16",
         "Arsenal",
         "Crystal Palace",
         "2.0",
         "1.0",
         "14-15",
         "Premier League"
        ],
        [
         "1",
         "2014-08-16",
         "Leicester",
         "Everton",
         "2.0",
         "2.0",
         "14-15",
         "Premier League"
        ],
        [
         "2",
         "2014-08-16",
         "Man United",
         "Swansea",
         "1.0",
         "2.0",
         "14-15",
         "Premier League"
        ],
        [
         "3",
         "2014-08-16",
         "QPR",
         "Hull",
         "0.0",
         "1.0",
         "14-15",
         "Premier League"
        ],
        [
         "4",
         "2014-08-16",
         "Stoke",
         "Aston Villa",
         "0.0",
         "1.0",
         "14-15",
         "Premier League"
        ],
        [
         "5",
         "2014-08-16",
         "West Brom",
         "Sunderland",
         "2.0",
         "2.0",
         "14-15",
         "Premier League"
        ],
        [
         "6",
         "2014-08-16",
         "West Ham",
         "Tottenham",
         "0.0",
         "1.0",
         "14-15",
         "Premier League"
        ],
        [
         "7",
         "2014-08-17",
         "Liverpool",
         "Southampton",
         "2.0",
         "1.0",
         "14-15",
         "Premier League"
        ],
        [
         "8",
         "2014-08-17",
         "Newcastle",
         "Man City",
         "0.0",
         "2.0",
         "14-15",
         "Premier League"
        ],
        [
         "9",
         "2014-08-18",
         "Burnley",
         "Chelsea",
         "1.0",
         "3.0",
         "14-15",
         "Premier League"
        ],
        [
         "10",
         "2014-08-23",
         "Aston Villa",
         "Newcastle",
         "0.0",
         "0.0",
         "14-15",
         "Premier League"
        ],
        [
         "11",
         "2014-08-23",
         "Chelsea",
         "Leicester",
         "2.0",
         "0.0",
         "14-15",
         "Premier League"
        ],
        [
         "12",
         "2014-08-23",
         "Crystal Palace",
         "West Ham",
         "1.0",
         "3.0",
         "14-15",
         "Premier League"
        ],
        [
         "13",
         "2014-08-23",
         "Everton",
         "Arsenal",
         "2.0",
         "2.0",
         "14-15",
         "Premier League"
        ],
        [
         "14",
         "2014-08-23",
         "Southampton",
         "West Brom",
         "0.0",
         "0.0",
         "14-15",
         "Premier League"
        ],
        [
         "15",
         "2014-08-23",
         "Swansea",
         "Burnley",
         "1.0",
         "0.0",
         "14-15",
         "Premier League"
        ],
        [
         "16",
         "2014-08-24",
         "Hull",
         "Stoke",
         "1.0",
         "1.0",
         "14-15",
         "Premier League"
        ],
        [
         "17",
         "2014-08-24",
         "Sunderland",
         "Man United",
         "1.0",
         "1.0",
         "14-15",
         "Premier League"
        ],
        [
         "18",
         "2014-08-24",
         "Tottenham",
         "QPR",
         "4.0",
         "0.0",
         "14-15",
         "Premier League"
        ],
        [
         "19",
         "2014-08-25",
         "Man City",
         "Liverpool",
         "3.0",
         "1.0",
         "14-15",
         "Premier League"
        ],
        [
         "20",
         "2014-08-30",
         "Burnley",
         "Man United",
         "0.0",
         "0.0",
         "14-15",
         "Premier League"
        ],
        [
         "21",
         "2014-08-30",
         "Everton",
         "Chelsea",
         "3.0",
         "6.0",
         "14-15",
         "Premier League"
        ],
        [
         "22",
         "2014-08-30",
         "Man City",
         "Stoke",
         "0.0",
         "1.0",
         "14-15",
         "Premier League"
        ],
        [
         "23",
         "2014-08-30",
         "Newcastle",
         "Crystal Palace",
         "3.0",
         "3.0",
         "14-15",
         "Premier League"
        ],
        [
         "24",
         "2014-08-30",
         "QPR",
         "Sunderland",
         "1.0",
         "0.0",
         "14-15",
         "Premier League"
        ],
        [
         "25",
         "2014-08-30",
         "Swansea",
         "West Brom",
         "3.0",
         "0.0",
         "14-15",
         "Premier League"
        ],
        [
         "26",
         "2014-08-30",
         "West Ham",
         "Southampton",
         "1.0",
         "3.0",
         "14-15",
         "Premier League"
        ],
        [
         "27",
         "2014-08-31",
         "Aston Villa",
         "Hull",
         "2.0",
         "1.0",
         "14-15",
         "Premier League"
        ],
        [
         "28",
         "2014-08-31",
         "Leicester",
         "Arsenal",
         "1.0",
         "1.0",
         "14-15",
         "Premier League"
        ],
        [
         "29",
         "2014-08-31",
         "Tottenham",
         "Liverpool",
         "0.0",
         "3.0",
         "14-15",
         "Premier League"
        ],
        [
         "30",
         "2014-09-13",
         "Arsenal",
         "Man City",
         "2.0",
         "2.0",
         "14-15",
         "Premier League"
        ],
        [
         "31",
         "2014-09-13",
         "Chelsea",
         "Swansea",
         "4.0",
         "2.0",
         "14-15",
         "Premier League"
        ],
        [
         "32",
         "2014-09-13",
         "Crystal Palace",
         "Burnley",
         "0.0",
         "0.0",
         "14-15",
         "Premier League"
        ],
        [
         "33",
         "2014-09-13",
         "Liverpool",
         "Aston Villa",
         "0.0",
         "1.0",
         "14-15",
         "Premier League"
        ],
        [
         "34",
         "2014-09-13",
         "Southampton",
         "Newcastle",
         "4.0",
         "0.0",
         "14-15",
         "Premier League"
        ],
        [
         "35",
         "2014-09-13",
         "Stoke",
         "Leicester",
         "0.0",
         "1.0",
         "14-15",
         "Premier League"
        ],
        [
         "36",
         "2014-09-13",
         "Sunderland",
         "Tottenham",
         "2.0",
         "2.0",
         "14-15",
         "Premier League"
        ],
        [
         "37",
         "2014-09-13",
         "West Brom",
         "Everton",
         "0.0",
         "2.0",
         "14-15",
         "Premier League"
        ],
        [
         "38",
         "2014-09-14",
         "Man United",
         "QPR",
         "4.0",
         "0.0",
         "14-15",
         "Premier League"
        ],
        [
         "39",
         "2014-09-15",
         "Hull",
         "West Ham",
         "2.0",
         "2.0",
         "14-15",
         "Premier League"
        ],
        [
         "40",
         "2014-09-20",
         "Aston Villa",
         "Arsenal",
         "0.0",
         "3.0",
         "14-15",
         "Premier League"
        ],
        [
         "41",
         "2014-09-20",
         "Burnley",
         "Sunderland",
         "0.0",
         "0.0",
         "14-15",
         "Premier League"
        ],
        [
         "42",
         "2014-09-20",
         "Newcastle",
         "Hull",
         "2.0",
         "2.0",
         "14-15",
         "Premier League"
        ],
        [
         "43",
         "2014-09-20",
         "QPR",
         "Stoke",
         "2.0",
         "2.0",
         "14-15",
         "Premier League"
        ],
        [
         "44",
         "2014-09-20",
         "Swansea",
         "Southampton",
         "0.0",
         "1.0",
         "14-15",
         "Premier League"
        ],
        [
         "45",
         "2014-09-20",
         "West Ham",
         "Liverpool",
         "3.0",
         "1.0",
         "14-15",
         "Premier League"
        ],
        [
         "46",
         "2014-09-21",
         "Everton",
         "Crystal Palace",
         "2.0",
         "3.0",
         "14-15",
         "Premier League"
        ],
        [
         "47",
         "2014-09-21",
         "Leicester",
         "Man United",
         "5.0",
         "3.0",
         "14-15",
         "Premier League"
        ],
        [
         "48",
         "2014-09-21",
         "Man City",
         "Chelsea",
         "1.0",
         "1.0",
         "14-15",
         "Premier League"
        ],
        [
         "49",
         "2014-09-21",
         "Tottenham",
         "West Brom",
         "0.0",
         "1.0",
         "14-15",
         "Premier League"
        ]
       ],
       "shape": {
        "columns": 7,
        "rows": 3801
       }
      },
      "text/html": [
       "<div>\n",
       "<style scoped>\n",
       "    .dataframe tbody tr th:only-of-type {\n",
       "        vertical-align: middle;\n",
       "    }\n",
       "\n",
       "    .dataframe tbody tr th {\n",
       "        vertical-align: top;\n",
       "    }\n",
       "\n",
       "    .dataframe thead th {\n",
       "        text-align: right;\n",
       "    }\n",
       "</style>\n",
       "<table border=\"1\" class=\"dataframe\">\n",
       "  <thead>\n",
       "    <tr style=\"text-align: right;\">\n",
       "      <th></th>\n",
       "      <th>date</th>\n",
       "      <th>home_team</th>\n",
       "      <th>away_team</th>\n",
       "      <th>home_score</th>\n",
       "      <th>away_score</th>\n",
       "      <th>season</th>\n",
       "      <th>league</th>\n",
       "    </tr>\n",
       "  </thead>\n",
       "  <tbody>\n",
       "    <tr>\n",
       "      <th>0</th>\n",
       "      <td>2014-08-16</td>\n",
       "      <td>Arsenal</td>\n",
       "      <td>Crystal Palace</td>\n",
       "      <td>2.0</td>\n",
       "      <td>1.0</td>\n",
       "      <td>14-15</td>\n",
       "      <td>Premier League</td>\n",
       "    </tr>\n",
       "    <tr>\n",
       "      <th>1</th>\n",
       "      <td>2014-08-16</td>\n",
       "      <td>Leicester</td>\n",
       "      <td>Everton</td>\n",
       "      <td>2.0</td>\n",
       "      <td>2.0</td>\n",
       "      <td>14-15</td>\n",
       "      <td>Premier League</td>\n",
       "    </tr>\n",
       "    <tr>\n",
       "      <th>2</th>\n",
       "      <td>2014-08-16</td>\n",
       "      <td>Man United</td>\n",
       "      <td>Swansea</td>\n",
       "      <td>1.0</td>\n",
       "      <td>2.0</td>\n",
       "      <td>14-15</td>\n",
       "      <td>Premier League</td>\n",
       "    </tr>\n",
       "    <tr>\n",
       "      <th>3</th>\n",
       "      <td>2014-08-16</td>\n",
       "      <td>QPR</td>\n",
       "      <td>Hull</td>\n",
       "      <td>0.0</td>\n",
       "      <td>1.0</td>\n",
       "      <td>14-15</td>\n",
       "      <td>Premier League</td>\n",
       "    </tr>\n",
       "    <tr>\n",
       "      <th>4</th>\n",
       "      <td>2014-08-16</td>\n",
       "      <td>Stoke</td>\n",
       "      <td>Aston Villa</td>\n",
       "      <td>0.0</td>\n",
       "      <td>1.0</td>\n",
       "      <td>14-15</td>\n",
       "      <td>Premier League</td>\n",
       "    </tr>\n",
       "    <tr>\n",
       "      <th>...</th>\n",
       "      <td>...</td>\n",
       "      <td>...</td>\n",
       "      <td>...</td>\n",
       "      <td>...</td>\n",
       "      <td>...</td>\n",
       "      <td>...</td>\n",
       "      <td>...</td>\n",
       "    </tr>\n",
       "    <tr>\n",
       "      <th>3796</th>\n",
       "      <td>2024-05-19</td>\n",
       "      <td>Crystal Palace</td>\n",
       "      <td>Aston Villa</td>\n",
       "      <td>5.0</td>\n",
       "      <td>0.0</td>\n",
       "      <td>23-24</td>\n",
       "      <td>Premier League</td>\n",
       "    </tr>\n",
       "    <tr>\n",
       "      <th>3797</th>\n",
       "      <td>2024-05-19</td>\n",
       "      <td>Liverpool</td>\n",
       "      <td>Wolves</td>\n",
       "      <td>2.0</td>\n",
       "      <td>0.0</td>\n",
       "      <td>23-24</td>\n",
       "      <td>Premier League</td>\n",
       "    </tr>\n",
       "    <tr>\n",
       "      <th>3798</th>\n",
       "      <td>2024-05-19</td>\n",
       "      <td>Luton</td>\n",
       "      <td>Fulham</td>\n",
       "      <td>2.0</td>\n",
       "      <td>4.0</td>\n",
       "      <td>23-24</td>\n",
       "      <td>Premier League</td>\n",
       "    </tr>\n",
       "    <tr>\n",
       "      <th>3799</th>\n",
       "      <td>2024-05-19</td>\n",
       "      <td>Man City</td>\n",
       "      <td>West Ham</td>\n",
       "      <td>3.0</td>\n",
       "      <td>1.0</td>\n",
       "      <td>23-24</td>\n",
       "      <td>Premier League</td>\n",
       "    </tr>\n",
       "    <tr>\n",
       "      <th>3800</th>\n",
       "      <td>2024-05-19</td>\n",
       "      <td>Sheffield United</td>\n",
       "      <td>Tottenham</td>\n",
       "      <td>0.0</td>\n",
       "      <td>3.0</td>\n",
       "      <td>23-24</td>\n",
       "      <td>Premier League</td>\n",
       "    </tr>\n",
       "  </tbody>\n",
       "</table>\n",
       "<p>3801 rows × 7 columns</p>\n",
       "</div>"
      ],
      "text/plain": [
       "            date         home_team       away_team  home_score  away_score  \\\n",
       "0     2014-08-16           Arsenal  Crystal Palace         2.0         1.0   \n",
       "1     2014-08-16         Leicester         Everton         2.0         2.0   \n",
       "2     2014-08-16        Man United         Swansea         1.0         2.0   \n",
       "3     2014-08-16               QPR            Hull         0.0         1.0   \n",
       "4     2014-08-16             Stoke     Aston Villa         0.0         1.0   \n",
       "...          ...               ...             ...         ...         ...   \n",
       "3796  2024-05-19    Crystal Palace     Aston Villa         5.0         0.0   \n",
       "3797  2024-05-19         Liverpool          Wolves         2.0         0.0   \n",
       "3798  2024-05-19             Luton          Fulham         2.0         4.0   \n",
       "3799  2024-05-19          Man City        West Ham         3.0         1.0   \n",
       "3800  2024-05-19  Sheffield United       Tottenham         0.0         3.0   \n",
       "\n",
       "     season          league  \n",
       "0     14-15  Premier League  \n",
       "1     14-15  Premier League  \n",
       "2     14-15  Premier League  \n",
       "3     14-15  Premier League  \n",
       "4     14-15  Premier League  \n",
       "...     ...             ...  \n",
       "3796  23-24  Premier League  \n",
       "3797  23-24  Premier League  \n",
       "3798  23-24  Premier League  \n",
       "3799  23-24  Premier League  \n",
       "3800  23-24  Premier League  \n",
       "\n",
       "[3801 rows x 7 columns]"
      ]
     },
     "execution_count": 12,
     "metadata": {},
     "output_type": "execute_result"
    }
   ],
   "source": [
    "import pandas as pd\n",
    "prem_data = pd.read_csv('/Users/aditya/datascience-projects/soccer-analysis/epl_2014_2024_combined.csv')\n",
    "prem_data"
   ]
  },
  {
   "cell_type": "code",
   "execution_count": 13,
   "id": "5f62c88f",
   "metadata": {},
   "outputs": [],
   "source": [
    "prem_teams = ['Man City', 'Liverpool', 'Arsenal', 'Chelsea',\n",
    "        'Man United', 'Tottenham', 'West Ham',\n",
    "        'Leicester', 'Aston Villa', 'Newcastle']\n",
    "\n",
    "refined_prem_data = prem_data[\n",
    "    (prem_data['home_team'].isin(prem_teams)) &\n",
    "    (prem_data['away_team'].isin(prem_teams))\n",
    "]"
   ]
  },
  {
   "cell_type": "code",
   "execution_count": 14,
   "id": "a5d597cc",
   "metadata": {},
   "outputs": [
    {
     "data": {
      "application/vnd.microsoft.datawrangler.viewer.v0+json": {
       "columns": [
        {
         "name": "index",
         "rawType": "int64",
         "type": "integer"
        },
        {
         "name": "date",
         "rawType": "object",
         "type": "string"
        },
        {
         "name": "home_team",
         "rawType": "object",
         "type": "string"
        },
        {
         "name": "away_team",
         "rawType": "object",
         "type": "string"
        },
        {
         "name": "home_score",
         "rawType": "float64",
         "type": "float"
        },
        {
         "name": "away_score",
         "rawType": "float64",
         "type": "float"
        },
        {
         "name": "season",
         "rawType": "object",
         "type": "string"
        },
        {
         "name": "league",
         "rawType": "object",
         "type": "string"
        }
       ],
       "ref": "d359a482-ff8d-4ddf-9b71-60573dced905",
       "rows": [
        [
         "6",
         "2014-08-16",
         "West Ham",
         "Tottenham",
         "0.0",
         "1.0",
         "14-15",
         "Premier League"
        ],
        [
         "8",
         "2014-08-17",
         "Newcastle",
         "Man City",
         "0.0",
         "2.0",
         "14-15",
         "Premier League"
        ],
        [
         "10",
         "2014-08-23",
         "Aston Villa",
         "Newcastle",
         "0.0",
         "0.0",
         "14-15",
         "Premier League"
        ],
        [
         "11",
         "2014-08-23",
         "Chelsea",
         "Leicester",
         "2.0",
         "0.0",
         "14-15",
         "Premier League"
        ],
        [
         "19",
         "2014-08-25",
         "Man City",
         "Liverpool",
         "3.0",
         "1.0",
         "14-15",
         "Premier League"
        ],
        [
         "28",
         "2014-08-31",
         "Leicester",
         "Arsenal",
         "1.0",
         "1.0",
         "14-15",
         "Premier League"
        ],
        [
         "29",
         "2014-08-31",
         "Tottenham",
         "Liverpool",
         "0.0",
         "3.0",
         "14-15",
         "Premier League"
        ],
        [
         "30",
         "2014-09-13",
         "Arsenal",
         "Man City",
         "2.0",
         "2.0",
         "14-15",
         "Premier League"
        ],
        [
         "33",
         "2014-09-13",
         "Liverpool",
         "Aston Villa",
         "0.0",
         "1.0",
         "14-15",
         "Premier League"
        ],
        [
         "40",
         "2014-09-20",
         "Aston Villa",
         "Arsenal",
         "0.0",
         "3.0",
         "14-15",
         "Premier League"
        ],
        [
         "45",
         "2014-09-20",
         "West Ham",
         "Liverpool",
         "3.0",
         "1.0",
         "14-15",
         "Premier League"
        ],
        [
         "47",
         "2014-09-21",
         "Leicester",
         "Man United",
         "5.0",
         "3.0",
         "14-15",
         "Premier League"
        ],
        [
         "48",
         "2014-09-21",
         "Man City",
         "Chelsea",
         "1.0",
         "1.0",
         "14-15",
         "Premier League"
        ],
        [
         "50",
         "2014-09-27",
         "Arsenal",
         "Tottenham",
         "1.0",
         "1.0",
         "14-15",
         "Premier League"
        ],
        [
         "51",
         "2014-09-27",
         "Chelsea",
         "Aston Villa",
         "3.0",
         "0.0",
         "14-15",
         "Premier League"
        ],
        [
         "55",
         "2014-09-27",
         "Man United",
         "West Ham",
         "2.0",
         "1.0",
         "14-15",
         "Premier League"
        ],
        [
         "60",
         "2014-04-10",
         "Aston Villa",
         "Man City",
         "0.0",
         "2.0",
         "14-15",
         "Premier League"
        ],
        [
         "66",
         "2014-05-10",
         "Chelsea",
         "Arsenal",
         "2.0",
         "0.0",
         "14-15",
         "Premier League"
        ],
        [
         "74",
         "2014-10-18",
         "Man City",
         "Tottenham",
         "4.0",
         "1.0",
         "14-15",
         "Premier League"
        ],
        [
         "75",
         "2014-10-18",
         "Newcastle",
         "Leicester",
         "1.0",
         "0.0",
         "14-15",
         "Premier League"
        ],
        [
         "85",
         "2014-10-25",
         "West Ham",
         "Man City",
         "2.0",
         "1.0",
         "14-15",
         "Premier League"
        ],
        [
         "87",
         "2014-10-26",
         "Man United",
         "Chelsea",
         "1.0",
         "1.0",
         "14-15",
         "Premier League"
        ],
        [
         "88",
         "2014-10-26",
         "Tottenham",
         "Newcastle",
         "1.0",
         "2.0",
         "14-15",
         "Premier League"
        ],
        [
         "95",
         "2014-01-11",
         "Newcastle",
         "Liverpool",
         "1.0",
         "0.0",
         "14-15",
         "Premier League"
        ],
        [
         "97",
         "2014-02-11",
         "Aston Villa",
         "Tottenham",
         "1.0",
         "2.0",
         "14-15",
         "Premier League"
        ],
        [
         "98",
         "2014-02-11",
         "Man City",
         "Man United",
         "1.0",
         "0.0",
         "14-15",
         "Premier League"
        ],
        [
         "101",
         "2014-08-11",
         "Liverpool",
         "Chelsea",
         "1.0",
         "2.0",
         "14-15",
         "Premier League"
        ],
        [
         "105",
         "2014-08-11",
         "West Ham",
         "Aston Villa",
         "0.0",
         "0.0",
         "14-15",
         "Premier League"
        ],
        [
         "110",
         "2014-11-22",
         "Arsenal",
         "Man United",
         "1.0",
         "2.0",
         "14-15",
         "Premier League"
        ],
        [
         "127",
         "2014-11-29",
         "West Ham",
         "Newcastle",
         "1.0",
         "0.0",
         "14-15",
         "Premier League"
        ],
        [
         "132",
         "2014-02-12",
         "Leicester",
         "Liverpool",
         "1.0",
         "3.0",
         "14-15",
         "Premier League"
        ],
        [
         "137",
         "2014-03-12",
         "Chelsea",
         "Tottenham",
         "3.0",
         "0.0",
         "14-15",
         "Premier League"
        ],
        [
         "143",
         "2014-06-12",
         "Newcastle",
         "Chelsea",
         "2.0",
         "1.0",
         "14-15",
         "Premier League"
        ],
        [
         "147",
         "2014-07-12",
         "Aston Villa",
         "Leicester",
         "2.0",
         "1.0",
         "14-15",
         "Premier League"
        ],
        [
         "150",
         "2014-12-13",
         "Arsenal",
         "Newcastle",
         "4.0",
         "1.0",
         "14-15",
         "Premier League"
        ],
        [
         "154",
         "2014-12-13",
         "Leicester",
         "Man City",
         "0.0",
         "1.0",
         "14-15",
         "Premier League"
        ],
        [
         "157",
         "2014-12-14",
         "Man United",
         "Liverpool",
         "3.0",
         "0.0",
         "14-15",
         "Premier League"
        ],
        [
         "160",
         "2014-12-20",
         "Aston Villa",
         "Man United",
         "1.0",
         "1.0",
         "14-15",
         "Premier League"
        ],
        [
         "166",
         "2014-12-20",
         "West Ham",
         "Leicester",
         "2.0",
         "0.0",
         "14-15",
         "Premier League"
        ],
        [
         "167",
         "2014-12-21",
         "Liverpool",
         "Arsenal",
         "2.0",
         "2.0",
         "14-15",
         "Premier League"
        ],
        [
         "172",
         "2014-12-26",
         "Chelsea",
         "West Ham",
         "2.0",
         "0.0",
         "14-15",
         "Premier League"
        ],
        [
         "175",
         "2014-12-26",
         "Leicester",
         "Tottenham",
         "1.0",
         "2.0",
         "14-15",
         "Premier League"
        ],
        [
         "176",
         "2014-12-26",
         "Man United",
         "Newcastle",
         "3.0",
         "1.0",
         "14-15",
         "Premier League"
        ],
        [
         "187",
         "2014-12-28",
         "Tottenham",
         "Man United",
         "0.0",
         "0.0",
         "14-15",
         "Premier League"
        ],
        [
         "188",
         "2014-12-28",
         "West Ham",
         "Arsenal",
         "1.0",
         "2.0",
         "14-15",
         "Premier League"
        ],
        [
         "192",
         "2015-01-01",
         "Liverpool",
         "Leicester",
         "2.0",
         "2.0",
         "14-15",
         "Premier League"
        ],
        [
         "198",
         "2015-01-01",
         "Tottenham",
         "Chelsea",
         "5.0",
         "3.0",
         "14-15",
         "Premier League"
        ],
        [
         "201",
         "2015-10-01",
         "Chelsea",
         "Newcastle",
         "2.0",
         "0.0",
         "14-15",
         "Premier League"
        ],
        [
         "204",
         "2015-10-01",
         "Leicester",
         "Aston Villa",
         "1.0",
         "0.0",
         "14-15",
         "Premier League"
        ],
        [
         "210",
         "2015-01-17",
         "Aston Villa",
         "Liverpool",
         "0.0",
         "2.0",
         "14-15",
         "Premier League"
        ]
       ],
       "shape": {
        "columns": 7,
        "rows": 812
       }
      },
      "text/html": [
       "<div>\n",
       "<style scoped>\n",
       "    .dataframe tbody tr th:only-of-type {\n",
       "        vertical-align: middle;\n",
       "    }\n",
       "\n",
       "    .dataframe tbody tr th {\n",
       "        vertical-align: top;\n",
       "    }\n",
       "\n",
       "    .dataframe thead th {\n",
       "        text-align: right;\n",
       "    }\n",
       "</style>\n",
       "<table border=\"1\" class=\"dataframe\">\n",
       "  <thead>\n",
       "    <tr style=\"text-align: right;\">\n",
       "      <th></th>\n",
       "      <th>date</th>\n",
       "      <th>home_team</th>\n",
       "      <th>away_team</th>\n",
       "      <th>home_score</th>\n",
       "      <th>away_score</th>\n",
       "      <th>season</th>\n",
       "      <th>league</th>\n",
       "    </tr>\n",
       "  </thead>\n",
       "  <tbody>\n",
       "    <tr>\n",
       "      <th>6</th>\n",
       "      <td>2014-08-16</td>\n",
       "      <td>West Ham</td>\n",
       "      <td>Tottenham</td>\n",
       "      <td>0.0</td>\n",
       "      <td>1.0</td>\n",
       "      <td>14-15</td>\n",
       "      <td>Premier League</td>\n",
       "    </tr>\n",
       "    <tr>\n",
       "      <th>8</th>\n",
       "      <td>2014-08-17</td>\n",
       "      <td>Newcastle</td>\n",
       "      <td>Man City</td>\n",
       "      <td>0.0</td>\n",
       "      <td>2.0</td>\n",
       "      <td>14-15</td>\n",
       "      <td>Premier League</td>\n",
       "    </tr>\n",
       "    <tr>\n",
       "      <th>10</th>\n",
       "      <td>2014-08-23</td>\n",
       "      <td>Aston Villa</td>\n",
       "      <td>Newcastle</td>\n",
       "      <td>0.0</td>\n",
       "      <td>0.0</td>\n",
       "      <td>14-15</td>\n",
       "      <td>Premier League</td>\n",
       "    </tr>\n",
       "    <tr>\n",
       "      <th>11</th>\n",
       "      <td>2014-08-23</td>\n",
       "      <td>Chelsea</td>\n",
       "      <td>Leicester</td>\n",
       "      <td>2.0</td>\n",
       "      <td>0.0</td>\n",
       "      <td>14-15</td>\n",
       "      <td>Premier League</td>\n",
       "    </tr>\n",
       "    <tr>\n",
       "      <th>19</th>\n",
       "      <td>2014-08-25</td>\n",
       "      <td>Man City</td>\n",
       "      <td>Liverpool</td>\n",
       "      <td>3.0</td>\n",
       "      <td>1.0</td>\n",
       "      <td>14-15</td>\n",
       "      <td>Premier League</td>\n",
       "    </tr>\n",
       "    <tr>\n",
       "      <th>...</th>\n",
       "      <td>...</td>\n",
       "      <td>...</td>\n",
       "      <td>...</td>\n",
       "      <td>...</td>\n",
       "      <td>...</td>\n",
       "      <td>...</td>\n",
       "      <td>...</td>\n",
       "    </tr>\n",
       "    <tr>\n",
       "      <th>3786</th>\n",
       "      <td>2024-12-05</td>\n",
       "      <td>Man United</td>\n",
       "      <td>Arsenal</td>\n",
       "      <td>0.0</td>\n",
       "      <td>1.0</td>\n",
       "      <td>23-24</td>\n",
       "      <td>Premier League</td>\n",
       "    </tr>\n",
       "    <tr>\n",
       "      <th>3787</th>\n",
       "      <td>2024-05-13</td>\n",
       "      <td>Aston Villa</td>\n",
       "      <td>Liverpool</td>\n",
       "      <td>3.0</td>\n",
       "      <td>3.0</td>\n",
       "      <td>23-24</td>\n",
       "      <td>Premier League</td>\n",
       "    </tr>\n",
       "    <tr>\n",
       "      <th>3788</th>\n",
       "      <td>2024-05-14</td>\n",
       "      <td>Tottenham</td>\n",
       "      <td>Man City</td>\n",
       "      <td>0.0</td>\n",
       "      <td>2.0</td>\n",
       "      <td>23-24</td>\n",
       "      <td>Premier League</td>\n",
       "    </tr>\n",
       "    <tr>\n",
       "      <th>3790</th>\n",
       "      <td>2024-05-15</td>\n",
       "      <td>Man United</td>\n",
       "      <td>Newcastle</td>\n",
       "      <td>3.0</td>\n",
       "      <td>2.0</td>\n",
       "      <td>23-24</td>\n",
       "      <td>Premier League</td>\n",
       "    </tr>\n",
       "    <tr>\n",
       "      <th>3799</th>\n",
       "      <td>2024-05-19</td>\n",
       "      <td>Man City</td>\n",
       "      <td>West Ham</td>\n",
       "      <td>3.0</td>\n",
       "      <td>1.0</td>\n",
       "      <td>23-24</td>\n",
       "      <td>Premier League</td>\n",
       "    </tr>\n",
       "  </tbody>\n",
       "</table>\n",
       "<p>812 rows × 7 columns</p>\n",
       "</div>"
      ],
      "text/plain": [
       "            date    home_team  away_team  home_score  away_score season  \\\n",
       "6     2014-08-16     West Ham  Tottenham         0.0         1.0  14-15   \n",
       "8     2014-08-17    Newcastle   Man City         0.0         2.0  14-15   \n",
       "10    2014-08-23  Aston Villa  Newcastle         0.0         0.0  14-15   \n",
       "11    2014-08-23      Chelsea  Leicester         2.0         0.0  14-15   \n",
       "19    2014-08-25     Man City  Liverpool         3.0         1.0  14-15   \n",
       "...          ...          ...        ...         ...         ...    ...   \n",
       "3786  2024-12-05   Man United    Arsenal         0.0         1.0  23-24   \n",
       "3787  2024-05-13  Aston Villa  Liverpool         3.0         3.0  23-24   \n",
       "3788  2024-05-14    Tottenham   Man City         0.0         2.0  23-24   \n",
       "3790  2024-05-15   Man United  Newcastle         3.0         2.0  23-24   \n",
       "3799  2024-05-19     Man City   West Ham         3.0         1.0  23-24   \n",
       "\n",
       "              league  \n",
       "6     Premier League  \n",
       "8     Premier League  \n",
       "10    Premier League  \n",
       "11    Premier League  \n",
       "19    Premier League  \n",
       "...              ...  \n",
       "3786  Premier League  \n",
       "3787  Premier League  \n",
       "3788  Premier League  \n",
       "3790  Premier League  \n",
       "3799  Premier League  \n",
       "\n",
       "[812 rows x 7 columns]"
      ]
     },
     "execution_count": 14,
     "metadata": {},
     "output_type": "execute_result"
    }
   ],
   "source": [
    "refined_prem_data"
   ]
  },
  {
   "cell_type": "code",
   "execution_count": 15,
   "id": "3448b9c7",
   "metadata": {},
   "outputs": [
    {
     "data": {
      "text/plain": [
       "array(['West Ham', 'Newcastle', 'Aston Villa', 'Chelsea', 'Man City',\n",
       "       'Leicester', 'Tottenham', 'Arsenal', 'Liverpool', 'Man United'],\n",
       "      dtype=object)"
      ]
     },
     "execution_count": 15,
     "metadata": {},
     "output_type": "execute_result"
    }
   ],
   "source": [
    "refined_prem_data['home_team'].unique()"
   ]
  },
  {
   "cell_type": "code",
   "execution_count": 23,
   "id": "e2ed349a",
   "metadata": {},
   "outputs": [
    {
     "data": {
      "text/plain": [
       "array(['Tottenham', 'Man City', 'Newcastle', 'Leicester', 'Liverpool',\n",
       "       'Arsenal', 'Aston Villa', 'Man United', 'Chelsea', 'West Ham'],\n",
       "      dtype=object)"
      ]
     },
     "execution_count": 23,
     "metadata": {},
     "output_type": "execute_result"
    }
   ],
   "source": [
    "refined_prem_data['away_team'].unique()"
   ]
  },
  {
   "cell_type": "code",
   "execution_count": 16,
   "id": "cef15d8d",
   "metadata": {},
   "outputs": [],
   "source": [
    "# move league to be the first column\n",
    "refined_prem_data = refined_prem_data[['league'] + [col for col in refined_prem_data.columns if col != 'league']]"
   ]
  },
  {
   "cell_type": "code",
   "execution_count": 17,
   "id": "1bb24d56",
   "metadata": {},
   "outputs": [],
   "source": [
    "def convert_season_to_year(season_val):\n",
    "    if isinstance(season_val, str) and '-' in season_val:\n",
    "        return 2000 + int(season_val.split('-')[0])\n",
    "    elif isinstance(season_val, (int, float)):\n",
    "        return int(season_val)\n",
    "    else:\n",
    "        return None\n"
   ]
  },
  {
   "cell_type": "code",
   "execution_count": 18,
   "id": "224e4cf8",
   "metadata": {},
   "outputs": [
    {
     "name": "stdout",
     "output_type": "stream",
     "text": [
      "2014\n"
     ]
    }
   ],
   "source": [
    "print(convert_season_to_year('14-15'))"
   ]
  },
  {
   "cell_type": "code",
   "execution_count": 19,
   "id": "516f4517",
   "metadata": {},
   "outputs": [
    {
     "name": "stdout",
     "output_type": "stream",
     "text": [
      "[2014 2015 2016 2017 2018 2019 2020 2021 2022]\n"
     ]
    }
   ],
   "source": [
    "refined_prem_data['season'] = refined_prem_data['season'].apply(convert_season_to_year)\n",
    "refined_prem_data = refined_prem_data.dropna(subset=['season'])\n",
    "refined_prem_data['season'] = refined_prem_data['season'].astype(int)\n",
    "refined_prem_data = refined_prem_data[refined_prem_data['season'].between(2014, 2022)]\n",
    "print(refined_prem_data['season'].unique())"
   ]
  },
  {
   "cell_type": "code",
   "execution_count": 20,
   "id": "99ba9f75",
   "metadata": {},
   "outputs": [
    {
     "data": {
      "application/vnd.microsoft.datawrangler.viewer.v0+json": {
       "columns": [
        {
         "name": "index",
         "rawType": "int64",
         "type": "integer"
        },
        {
         "name": "league",
         "rawType": "object",
         "type": "string"
        },
        {
         "name": "date",
         "rawType": "object",
         "type": "string"
        },
        {
         "name": "home_team",
         "rawType": "object",
         "type": "string"
        },
        {
         "name": "away_team",
         "rawType": "object",
         "type": "string"
        },
        {
         "name": "home_score",
         "rawType": "float64",
         "type": "float"
        },
        {
         "name": "away_score",
         "rawType": "float64",
         "type": "float"
        },
        {
         "name": "season",
         "rawType": "int64",
         "type": "integer"
        }
       ],
       "ref": "48d56da0-997a-46f0-8e46-59597c379265",
       "rows": [
        [
         "6",
         "Premier League",
         "2014-08-16",
         "West Ham",
         "Tottenham",
         "0.0",
         "1.0",
         "2014"
        ],
        [
         "8",
         "Premier League",
         "2014-08-17",
         "Newcastle",
         "Man City",
         "0.0",
         "2.0",
         "2014"
        ],
        [
         "10",
         "Premier League",
         "2014-08-23",
         "Aston Villa",
         "Newcastle",
         "0.0",
         "0.0",
         "2014"
        ],
        [
         "11",
         "Premier League",
         "2014-08-23",
         "Chelsea",
         "Leicester",
         "2.0",
         "0.0",
         "2014"
        ],
        [
         "19",
         "Premier League",
         "2014-08-25",
         "Man City",
         "Liverpool",
         "3.0",
         "1.0",
         "2014"
        ],
        [
         "28",
         "Premier League",
         "2014-08-31",
         "Leicester",
         "Arsenal",
         "1.0",
         "1.0",
         "2014"
        ],
        [
         "29",
         "Premier League",
         "2014-08-31",
         "Tottenham",
         "Liverpool",
         "0.0",
         "3.0",
         "2014"
        ],
        [
         "30",
         "Premier League",
         "2014-09-13",
         "Arsenal",
         "Man City",
         "2.0",
         "2.0",
         "2014"
        ],
        [
         "33",
         "Premier League",
         "2014-09-13",
         "Liverpool",
         "Aston Villa",
         "0.0",
         "1.0",
         "2014"
        ],
        [
         "40",
         "Premier League",
         "2014-09-20",
         "Aston Villa",
         "Arsenal",
         "0.0",
         "3.0",
         "2014"
        ],
        [
         "45",
         "Premier League",
         "2014-09-20",
         "West Ham",
         "Liverpool",
         "3.0",
         "1.0",
         "2014"
        ],
        [
         "47",
         "Premier League",
         "2014-09-21",
         "Leicester",
         "Man United",
         "5.0",
         "3.0",
         "2014"
        ],
        [
         "48",
         "Premier League",
         "2014-09-21",
         "Man City",
         "Chelsea",
         "1.0",
         "1.0",
         "2014"
        ],
        [
         "50",
         "Premier League",
         "2014-09-27",
         "Arsenal",
         "Tottenham",
         "1.0",
         "1.0",
         "2014"
        ],
        [
         "51",
         "Premier League",
         "2014-09-27",
         "Chelsea",
         "Aston Villa",
         "3.0",
         "0.0",
         "2014"
        ],
        [
         "55",
         "Premier League",
         "2014-09-27",
         "Man United",
         "West Ham",
         "2.0",
         "1.0",
         "2014"
        ],
        [
         "60",
         "Premier League",
         "2014-04-10",
         "Aston Villa",
         "Man City",
         "0.0",
         "2.0",
         "2014"
        ],
        [
         "66",
         "Premier League",
         "2014-05-10",
         "Chelsea",
         "Arsenal",
         "2.0",
         "0.0",
         "2014"
        ],
        [
         "74",
         "Premier League",
         "2014-10-18",
         "Man City",
         "Tottenham",
         "4.0",
         "1.0",
         "2014"
        ],
        [
         "75",
         "Premier League",
         "2014-10-18",
         "Newcastle",
         "Leicester",
         "1.0",
         "0.0",
         "2014"
        ],
        [
         "85",
         "Premier League",
         "2014-10-25",
         "West Ham",
         "Man City",
         "2.0",
         "1.0",
         "2014"
        ],
        [
         "87",
         "Premier League",
         "2014-10-26",
         "Man United",
         "Chelsea",
         "1.0",
         "1.0",
         "2014"
        ],
        [
         "88",
         "Premier League",
         "2014-10-26",
         "Tottenham",
         "Newcastle",
         "1.0",
         "2.0",
         "2014"
        ],
        [
         "95",
         "Premier League",
         "2014-01-11",
         "Newcastle",
         "Liverpool",
         "1.0",
         "0.0",
         "2014"
        ],
        [
         "97",
         "Premier League",
         "2014-02-11",
         "Aston Villa",
         "Tottenham",
         "1.0",
         "2.0",
         "2014"
        ],
        [
         "98",
         "Premier League",
         "2014-02-11",
         "Man City",
         "Man United",
         "1.0",
         "0.0",
         "2014"
        ],
        [
         "101",
         "Premier League",
         "2014-08-11",
         "Liverpool",
         "Chelsea",
         "1.0",
         "2.0",
         "2014"
        ],
        [
         "105",
         "Premier League",
         "2014-08-11",
         "West Ham",
         "Aston Villa",
         "0.0",
         "0.0",
         "2014"
        ],
        [
         "110",
         "Premier League",
         "2014-11-22",
         "Arsenal",
         "Man United",
         "1.0",
         "2.0",
         "2014"
        ],
        [
         "127",
         "Premier League",
         "2014-11-29",
         "West Ham",
         "Newcastle",
         "1.0",
         "0.0",
         "2014"
        ],
        [
         "132",
         "Premier League",
         "2014-02-12",
         "Leicester",
         "Liverpool",
         "1.0",
         "3.0",
         "2014"
        ],
        [
         "137",
         "Premier League",
         "2014-03-12",
         "Chelsea",
         "Tottenham",
         "3.0",
         "0.0",
         "2014"
        ],
        [
         "143",
         "Premier League",
         "2014-06-12",
         "Newcastle",
         "Chelsea",
         "2.0",
         "1.0",
         "2014"
        ],
        [
         "147",
         "Premier League",
         "2014-07-12",
         "Aston Villa",
         "Leicester",
         "2.0",
         "1.0",
         "2014"
        ],
        [
         "150",
         "Premier League",
         "2014-12-13",
         "Arsenal",
         "Newcastle",
         "4.0",
         "1.0",
         "2014"
        ],
        [
         "154",
         "Premier League",
         "2014-12-13",
         "Leicester",
         "Man City",
         "0.0",
         "1.0",
         "2014"
        ],
        [
         "157",
         "Premier League",
         "2014-12-14",
         "Man United",
         "Liverpool",
         "3.0",
         "0.0",
         "2014"
        ],
        [
         "160",
         "Premier League",
         "2014-12-20",
         "Aston Villa",
         "Man United",
         "1.0",
         "1.0",
         "2014"
        ],
        [
         "166",
         "Premier League",
         "2014-12-20",
         "West Ham",
         "Leicester",
         "2.0",
         "0.0",
         "2014"
        ],
        [
         "167",
         "Premier League",
         "2014-12-21",
         "Liverpool",
         "Arsenal",
         "2.0",
         "2.0",
         "2014"
        ],
        [
         "172",
         "Premier League",
         "2014-12-26",
         "Chelsea",
         "West Ham",
         "2.0",
         "0.0",
         "2014"
        ],
        [
         "175",
         "Premier League",
         "2014-12-26",
         "Leicester",
         "Tottenham",
         "1.0",
         "2.0",
         "2014"
        ],
        [
         "176",
         "Premier League",
         "2014-12-26",
         "Man United",
         "Newcastle",
         "3.0",
         "1.0",
         "2014"
        ],
        [
         "187",
         "Premier League",
         "2014-12-28",
         "Tottenham",
         "Man United",
         "0.0",
         "0.0",
         "2014"
        ],
        [
         "188",
         "Premier League",
         "2014-12-28",
         "West Ham",
         "Arsenal",
         "1.0",
         "2.0",
         "2014"
        ],
        [
         "192",
         "Premier League",
         "2015-01-01",
         "Liverpool",
         "Leicester",
         "2.0",
         "2.0",
         "2014"
        ],
        [
         "198",
         "Premier League",
         "2015-01-01",
         "Tottenham",
         "Chelsea",
         "5.0",
         "3.0",
         "2014"
        ],
        [
         "201",
         "Premier League",
         "2015-10-01",
         "Chelsea",
         "Newcastle",
         "2.0",
         "0.0",
         "2014"
        ],
        [
         "204",
         "Premier League",
         "2015-10-01",
         "Leicester",
         "Aston Villa",
         "1.0",
         "0.0",
         "2014"
        ],
        [
         "210",
         "Premier League",
         "2015-01-17",
         "Aston Villa",
         "Liverpool",
         "0.0",
         "2.0",
         "2014"
        ]
       ],
       "shape": {
        "columns": 7,
        "rows": 740
       }
      },
      "text/html": [
       "<div>\n",
       "<style scoped>\n",
       "    .dataframe tbody tr th:only-of-type {\n",
       "        vertical-align: middle;\n",
       "    }\n",
       "\n",
       "    .dataframe tbody tr th {\n",
       "        vertical-align: top;\n",
       "    }\n",
       "\n",
       "    .dataframe thead th {\n",
       "        text-align: right;\n",
       "    }\n",
       "</style>\n",
       "<table border=\"1\" class=\"dataframe\">\n",
       "  <thead>\n",
       "    <tr style=\"text-align: right;\">\n",
       "      <th></th>\n",
       "      <th>league</th>\n",
       "      <th>date</th>\n",
       "      <th>home_team</th>\n",
       "      <th>away_team</th>\n",
       "      <th>home_score</th>\n",
       "      <th>away_score</th>\n",
       "      <th>season</th>\n",
       "    </tr>\n",
       "  </thead>\n",
       "  <tbody>\n",
       "    <tr>\n",
       "      <th>6</th>\n",
       "      <td>Premier League</td>\n",
       "      <td>2014-08-16</td>\n",
       "      <td>West Ham</td>\n",
       "      <td>Tottenham</td>\n",
       "      <td>0.0</td>\n",
       "      <td>1.0</td>\n",
       "      <td>2014</td>\n",
       "    </tr>\n",
       "    <tr>\n",
       "      <th>8</th>\n",
       "      <td>Premier League</td>\n",
       "      <td>2014-08-17</td>\n",
       "      <td>Newcastle</td>\n",
       "      <td>Man City</td>\n",
       "      <td>0.0</td>\n",
       "      <td>2.0</td>\n",
       "      <td>2014</td>\n",
       "    </tr>\n",
       "    <tr>\n",
       "      <th>10</th>\n",
       "      <td>Premier League</td>\n",
       "      <td>2014-08-23</td>\n",
       "      <td>Aston Villa</td>\n",
       "      <td>Newcastle</td>\n",
       "      <td>0.0</td>\n",
       "      <td>0.0</td>\n",
       "      <td>2014</td>\n",
       "    </tr>\n",
       "    <tr>\n",
       "      <th>11</th>\n",
       "      <td>Premier League</td>\n",
       "      <td>2014-08-23</td>\n",
       "      <td>Chelsea</td>\n",
       "      <td>Leicester</td>\n",
       "      <td>2.0</td>\n",
       "      <td>0.0</td>\n",
       "      <td>2014</td>\n",
       "    </tr>\n",
       "    <tr>\n",
       "      <th>19</th>\n",
       "      <td>Premier League</td>\n",
       "      <td>2014-08-25</td>\n",
       "      <td>Man City</td>\n",
       "      <td>Liverpool</td>\n",
       "      <td>3.0</td>\n",
       "      <td>1.0</td>\n",
       "      <td>2014</td>\n",
       "    </tr>\n",
       "    <tr>\n",
       "      <th>...</th>\n",
       "      <td>...</td>\n",
       "      <td>...</td>\n",
       "      <td>...</td>\n",
       "      <td>...</td>\n",
       "      <td>...</td>\n",
       "      <td>...</td>\n",
       "      <td>...</td>\n",
       "    </tr>\n",
       "    <tr>\n",
       "      <th>3407</th>\n",
       "      <td>Premier League</td>\n",
       "      <td>2023-05-21</td>\n",
       "      <td>Man City</td>\n",
       "      <td>Chelsea</td>\n",
       "      <td>1.0</td>\n",
       "      <td>0.0</td>\n",
       "      <td>2022</td>\n",
       "    </tr>\n",
       "    <tr>\n",
       "      <th>3408</th>\n",
       "      <td>Premier League</td>\n",
       "      <td>2023-05-22</td>\n",
       "      <td>Newcastle</td>\n",
       "      <td>Leicester</td>\n",
       "      <td>0.0</td>\n",
       "      <td>0.0</td>\n",
       "      <td>2022</td>\n",
       "    </tr>\n",
       "    <tr>\n",
       "      <th>3410</th>\n",
       "      <td>Premier League</td>\n",
       "      <td>2023-05-25</td>\n",
       "      <td>Man United</td>\n",
       "      <td>Chelsea</td>\n",
       "      <td>4.0</td>\n",
       "      <td>1.0</td>\n",
       "      <td>2022</td>\n",
       "    </tr>\n",
       "    <tr>\n",
       "      <th>3414</th>\n",
       "      <td>Premier League</td>\n",
       "      <td>2023-05-28</td>\n",
       "      <td>Chelsea</td>\n",
       "      <td>Newcastle</td>\n",
       "      <td>1.0</td>\n",
       "      <td>1.0</td>\n",
       "      <td>2022</td>\n",
       "    </tr>\n",
       "    <tr>\n",
       "      <th>3418</th>\n",
       "      <td>Premier League</td>\n",
       "      <td>2023-05-28</td>\n",
       "      <td>Leicester</td>\n",
       "      <td>West Ham</td>\n",
       "      <td>2.0</td>\n",
       "      <td>1.0</td>\n",
       "      <td>2022</td>\n",
       "    </tr>\n",
       "  </tbody>\n",
       "</table>\n",
       "<p>740 rows × 7 columns</p>\n",
       "</div>"
      ],
      "text/plain": [
       "              league        date    home_team  away_team  home_score  \\\n",
       "6     Premier League  2014-08-16     West Ham  Tottenham         0.0   \n",
       "8     Premier League  2014-08-17    Newcastle   Man City         0.0   \n",
       "10    Premier League  2014-08-23  Aston Villa  Newcastle         0.0   \n",
       "11    Premier League  2014-08-23      Chelsea  Leicester         2.0   \n",
       "19    Premier League  2014-08-25     Man City  Liverpool         3.0   \n",
       "...              ...         ...          ...        ...         ...   \n",
       "3407  Premier League  2023-05-21     Man City    Chelsea         1.0   \n",
       "3408  Premier League  2023-05-22    Newcastle  Leicester         0.0   \n",
       "3410  Premier League  2023-05-25   Man United    Chelsea         4.0   \n",
       "3414  Premier League  2023-05-28      Chelsea  Newcastle         1.0   \n",
       "3418  Premier League  2023-05-28    Leicester   West Ham         2.0   \n",
       "\n",
       "      away_score  season  \n",
       "6            1.0    2014  \n",
       "8            2.0    2014  \n",
       "10           0.0    2014  \n",
       "11           0.0    2014  \n",
       "19           1.0    2014  \n",
       "...          ...     ...  \n",
       "3407         0.0    2022  \n",
       "3408         0.0    2022  \n",
       "3410         1.0    2022  \n",
       "3414         1.0    2022  \n",
       "3418         1.0    2022  \n",
       "\n",
       "[740 rows x 7 columns]"
      ]
     },
     "execution_count": 20,
     "metadata": {},
     "output_type": "execute_result"
    }
   ],
   "source": [
    "refined_prem_data"
   ]
  },
  {
   "cell_type": "code",
   "execution_count": 21,
   "id": "eddd909e",
   "metadata": {},
   "outputs": [
    {
     "data": {
      "application/vnd.microsoft.datawrangler.viewer.v0+json": {
       "columns": [
        {
         "name": "index",
         "rawType": "object",
         "type": "string"
        },
        {
         "name": "0",
         "rawType": "int64",
         "type": "integer"
        }
       ],
       "ref": "c8939601-3229-47ac-95a0-e9415a4adb0e",
       "rows": [
        [
         "league",
         "0"
        ],
        [
         "date",
         "0"
        ],
        [
         "home_team",
         "0"
        ],
        [
         "away_team",
         "0"
        ],
        [
         "home_score",
         "0"
        ],
        [
         "away_score",
         "0"
        ],
        [
         "season",
         "0"
        ]
       ],
       "shape": {
        "columns": 1,
        "rows": 7
       }
      },
      "text/plain": [
       "league        0\n",
       "date          0\n",
       "home_team     0\n",
       "away_team     0\n",
       "home_score    0\n",
       "away_score    0\n",
       "season        0\n",
       "dtype: int64"
      ]
     },
     "execution_count": 21,
     "metadata": {},
     "output_type": "execute_result"
    }
   ],
   "source": [
    "# check for missing values\n",
    "refined_prem_data.isnull().sum()"
   ]
  },
  {
   "cell_type": "code",
   "execution_count": 22,
   "id": "52c92c2d",
   "metadata": {},
   "outputs": [],
   "source": [
    "refined_prem_data.to_csv('/Users/aditya/datascience-projects/soccer-analysis/data/prem_data.csv')"
   ]
  }
 ],
 "metadata": {
  "kernelspec": {
   "display_name": "3.11.6",
   "language": "python",
   "name": "python3"
  },
  "language_info": {
   "codemirror_mode": {
    "name": "ipython",
    "version": 3
   },
   "file_extension": ".py",
   "mimetype": "text/x-python",
   "name": "python",
   "nbconvert_exporter": "python",
   "pygments_lexer": "ipython3",
   "version": "3.11.6"
  }
 },
 "nbformat": 4,
 "nbformat_minor": 5
}
